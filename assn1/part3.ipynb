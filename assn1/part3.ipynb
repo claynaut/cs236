{
 "cells": [
  {
   "cell_type": "markdown",
   "metadata": {},
   "source": [
    "# CS 236 Assignment 1: Part 3\n",
    "> Author: Jamella Pescasio (jpesc002)\n",
    "\n",
    "## Purpose\n",
    "Make queries based on the assignment specifications.\n",
    "\n",
    "## Setup"
   ]
  },
  {
   "cell_type": "code",
   "execution_count": 29,
   "metadata": {},
   "outputs": [
    {
     "name": "stdout",
     "output_type": "stream",
     "text": [
      "The sql extension is already loaded. To reload it, use:\n",
      "  %reload_ext sql\n"
     ]
    }
   ],
   "source": [
    "# load extension (only needed once)\n",
    "%load_ext sql"
   ]
  },
  {
   "cell_type": "code",
   "execution_count": 30,
   "metadata": {},
   "outputs": [],
   "source": [
    "# initializes db and creates respective file in same directory\n",
    "%sql sqlite:///policies-v12.sqlite"
   ]
  },
  {
   "cell_type": "markdown",
   "metadata": {},
   "source": [
    "## Make Queries\n",
    "Code blocks below make queries based on the respective query specification.\n",
    "\n",
    "### Query 1\n",
    "The names of all customers who have both a life insurance and a vehicle policy."
   ]
  },
  {
   "cell_type": "code",
   "execution_count": 31,
   "metadata": {},
   "outputs": [
    {
     "name": "stdout",
     "output_type": "stream",
     "text": [
      "   sqlite:///policies-v11.sqlite\n",
      " * sqlite:///policies-v12.sqlite\n",
      "Done.\n"
     ]
    },
    {
     "data": {
      "text/html": [
       "<table>\n",
       "    <tr>\n",
       "        <th>name</th>\n",
       "    </tr>\n",
       "    <tr>\n",
       "        <td>Bombas III</td>\n",
       "    </tr>\n",
       "    <tr>\n",
       "        <td>Geralt of Rivia</td>\n",
       "    </tr>\n",
       "</table>"
      ],
      "text/plain": [
       "[('Bombas III',), ('Geralt of Rivia',)]"
      ]
     },
     "execution_count": 31,
     "metadata": {},
     "output_type": "execute_result"
    }
   ],
   "source": [
    "%%sql\n",
    "SELECT name FROM Customers\n",
    "GROUP BY name\n",
    "HAVING COUNT(*) > 1"
   ]
  },
  {
   "cell_type": "markdown",
   "metadata": {},
   "source": [
    "### Query 2\n",
    "The name and driver license of customers who had 2 or more accidents in the past year."
   ]
  },
  {
   "cell_type": "code",
   "execution_count": 50,
   "metadata": {},
   "outputs": [
    {
     "name": "stdout",
     "output_type": "stream",
     "text": [
      "   sqlite:///policies-v11.sqlite\n",
      " * sqlite:///policies-v12.sqlite\n",
      "Done.\n"
     ]
    },
    {
     "data": {
      "text/html": [
       "<table>\n",
       "    <tr>\n",
       "        <th>name</th>\n",
       "        <th>driver_license</th>\n",
       "    </tr>\n",
       "    <tr>\n",
       "        <td>Bjorn of Hearthyme</td>\n",
       "        <td>JJFDC3L9W</td>\n",
       "    </tr>\n",
       "    <tr>\n",
       "        <td>Bjorn of Hearthyme</td>\n",
       "        <td>JJFDC3L9W</td>\n",
       "    </tr>\n",
       "    <tr>\n",
       "        <td>Bjorn of Hearthyme</td>\n",
       "        <td>JJFDC3L9W</td>\n",
       "    </tr>\n",
       "    <tr>\n",
       "        <td>Bjorn of Hearthyme</td>\n",
       "        <td>JJFDC3L9W</td>\n",
       "    </tr>\n",
       "    <tr>\n",
       "        <td>Bombas III</td>\n",
       "        <td>H1D1YCFQX</td>\n",
       "    </tr>\n",
       "    <tr>\n",
       "        <td>Bombas III</td>\n",
       "        <td>H1D1YCFQX</td>\n",
       "    </tr>\n",
       "    <tr>\n",
       "        <td>Geralt of Rivia</td>\n",
       "        <td>QNGHZ3JDS</td>\n",
       "    </tr>\n",
       "    <tr>\n",
       "        <td>Geralt of Rivia</td>\n",
       "        <td>QNGHZ3JDS</td>\n",
       "    </tr>\n",
       "    <tr>\n",
       "        <td>Bombas III</td>\n",
       "        <td>H1D1YCFQX</td>\n",
       "    </tr>\n",
       "    <tr>\n",
       "        <td>Bombas III</td>\n",
       "        <td>H1D1YCFQX</td>\n",
       "    </tr>\n",
       "    <tr>\n",
       "        <td>Bombas III</td>\n",
       "        <td>H1D1YCFQX</td>\n",
       "    </tr>\n",
       "    <tr>\n",
       "        <td>Bombas III</td>\n",
       "        <td>H1D1YCFQX</td>\n",
       "    </tr>\n",
       "    <tr>\n",
       "        <td>Bombas III</td>\n",
       "        <td>H1D1YCFQX</td>\n",
       "    </tr>\n",
       "    <tr>\n",
       "        <td>Bombas III</td>\n",
       "        <td>H1D1YCFQX</td>\n",
       "    </tr>\n",
       "    <tr>\n",
       "        <td>Bombas III</td>\n",
       "        <td>H1D1YCFQX</td>\n",
       "    </tr>\n",
       "    <tr>\n",
       "        <td>Bombas III</td>\n",
       "        <td>H1D1YCFQX</td>\n",
       "    </tr>\n",
       "    <tr>\n",
       "        <td>Bjorn of Hearthyme</td>\n",
       "        <td>JJFDC3L9W</td>\n",
       "    </tr>\n",
       "    <tr>\n",
       "        <td>Bjorn of Hearthyme</td>\n",
       "        <td>JJFDC3L9W</td>\n",
       "    </tr>\n",
       "</table>"
      ],
      "text/plain": [
       "[('Bjorn of Hearthyme', 'JJFDC3L9W'),\n",
       " ('Bjorn of Hearthyme', 'JJFDC3L9W'),\n",
       " ('Bjorn of Hearthyme', 'JJFDC3L9W'),\n",
       " ('Bjorn of Hearthyme', 'JJFDC3L9W'),\n",
       " ('Bombas III', 'H1D1YCFQX'),\n",
       " ('Bombas III', 'H1D1YCFQX'),\n",
       " ('Geralt of Rivia', 'QNGHZ3JDS'),\n",
       " ('Geralt of Rivia', 'QNGHZ3JDS'),\n",
       " ('Bombas III', 'H1D1YCFQX'),\n",
       " ('Bombas III', 'H1D1YCFQX'),\n",
       " ('Bombas III', 'H1D1YCFQX'),\n",
       " ('Bombas III', 'H1D1YCFQX'),\n",
       " ('Bombas III', 'H1D1YCFQX'),\n",
       " ('Bombas III', 'H1D1YCFQX'),\n",
       " ('Bombas III', 'H1D1YCFQX'),\n",
       " ('Bombas III', 'H1D1YCFQX'),\n",
       " ('Bjorn of Hearthyme', 'JJFDC3L9W'),\n",
       " ('Bjorn of Hearthyme', 'JJFDC3L9W')]"
      ]
     },
     "execution_count": 50,
     "metadata": {},
     "output_type": "execute_result"
    }
   ],
   "source": [
    "%%sql\n",
    "SELECT name, driver_license FROM Reports\n",
    "JOIN Customers USING (driver_license)\n",
    "?????????????????????????????????"
   ]
  },
  {
   "cell_type": "markdown",
   "metadata": {},
   "source": [
    "### Query 3\n",
    "Find the total number of customers who owned cars that were involved in accidents in 2022."
   ]
  },
  {
   "cell_type": "code",
   "execution_count": 45,
   "metadata": {},
   "outputs": [
    {
     "name": "stdout",
     "output_type": "stream",
     "text": [
      "   sqlite:///policies-v11.sqlite\n",
      " * sqlite:///policies-v12.sqlite\n",
      "Done.\n"
     ]
    },
    {
     "data": {
      "text/html": [
       "<table>\n",
       "    <tr>\n",
       "        <th>COUNT(DISTINCT driver_license)</th>\n",
       "    </tr>\n",
       "    <tr>\n",
       "        <td>3</td>\n",
       "    </tr>\n",
       "</table>"
      ],
      "text/plain": [
       "[(3,)]"
      ]
     },
     "execution_count": 45,
     "metadata": {},
     "output_type": "execute_result"
    }
   ],
   "source": [
    "%%sql\n",
    "SELECT COUNT(DISTINCT driver_license) FROM Reports\n",
    "WHERE date > '2021-12-31'"
   ]
  },
  {
   "cell_type": "markdown",
   "metadata": {},
   "source": [
    "### Query 4\n",
    "Find the name of the customer who has the most number of accidents (total accidents)."
   ]
  },
  {
   "cell_type": "code",
   "execution_count": 56,
   "metadata": {},
   "outputs": [
    {
     "name": "stdout",
     "output_type": "stream",
     "text": [
      "   sqlite:///policies-v11.sqlite\n",
      " * sqlite:///policies-v12.sqlite\n",
      "Done.\n"
     ]
    },
    {
     "data": {
      "text/html": [
       "<table>\n",
       "    <tr>\n",
       "        <th>result</th>\n",
       "    </tr>\n",
       "    <tr>\n",
       "        <td>6</td>\n",
       "    </tr>\n",
       "</table>"
      ],
      "text/plain": [
       "[(6,)]"
      ]
     },
     "execution_count": 56,
     "metadata": {},
     "output_type": "execute_result"
    }
   ],
   "source": [
    "%%sql\n",
    "SELECT COUNT(driver_license) AS result FROM Reports\n",
    "GROUP BY driver_license\n",
    "ORDER BY result DESC\n",
    "LIMIT 1"
   ]
  },
  {
   "cell_type": "markdown",
   "metadata": {},
   "source": [
    "### Query 5\n",
    "Find the name of customers who own a life policy but not a vehicle policy."
   ]
  },
  {
   "cell_type": "code",
   "execution_count": null,
   "metadata": {},
   "outputs": [],
   "source": [
    "%%sql"
   ]
  },
  {
   "cell_type": "markdown",
   "metadata": {},
   "source": [
    "### Query 6\n",
    "Find the name of customers who either owned a Honda CRV or been in an accident with a Honda CRV."
   ]
  },
  {
   "cell_type": "code",
   "execution_count": null,
   "metadata": {},
   "outputs": [],
   "source": [
    "%%sql"
   ]
  },
  {
   "cell_type": "markdown",
   "metadata": {},
   "source": [
    "### Query 7\n",
    "Find the name of customers who never owned a Honda CRV or been in an accident with a Honda CRV."
   ]
  },
  {
   "cell_type": "code",
   "execution_count": null,
   "metadata": {},
   "outputs": [],
   "source": [
    "%%sql"
   ]
  }
 ],
 "metadata": {
  "interpreter": {
   "hash": "916dbcbb3f70747c44a77c7bcd40155683ae19c65e1c03b4aa3499c5328201f1"
  },
  "kernelspec": {
   "display_name": "Python 3.8.10 64-bit",
   "language": "python",
   "name": "python3"
  },
  "language_info": {
   "codemirror_mode": {
    "name": "ipython",
    "version": 3
   },
   "file_extension": ".py",
   "mimetype": "text/x-python",
   "name": "python",
   "nbconvert_exporter": "python",
   "pygments_lexer": "ipython3",
   "version": "3.8.10"
  },
  "orig_nbformat": 4
 },
 "nbformat": 4,
 "nbformat_minor": 2
}
