{
 "cells": [
  {
   "cell_type": "markdown",
   "metadata": {},
   "source": [
    "# CS 236 Assignment 1: Part 3\n",
    "> Author: Jamella Pescasio (jpesc002)\n",
    "\n",
    "## Purpose\n",
    "Make queries based on the assignment specifications.\n",
    "\n",
    "## Setup"
   ]
  },
  {
   "cell_type": "code",
   "execution_count": 3,
   "metadata": {},
   "outputs": [],
   "source": [
    "# load extension (only needed once)\n",
    "%load_ext sql"
   ]
  },
  {
   "cell_type": "code",
   "execution_count": 4,
   "metadata": {},
   "outputs": [],
   "source": [
    "# initializes db and creates respective file in same directory\n",
    "%sql sqlite:///policies-v12.sqlite"
   ]
  },
  {
   "cell_type": "markdown",
   "metadata": {},
   "source": [
    "## Make Queries\n",
    "Code blocks below make queries based on the respective query specification.\n",
    "\n",
    "### Query 1\n",
    "The names of all customers who have both a life insurance and a vehicle policy."
   ]
  },
  {
   "cell_type": "code",
   "execution_count": 31,
   "metadata": {},
   "outputs": [
    {
     "name": "stdout",
     "output_type": "stream",
     "text": [
      "   sqlite:///policies-v11.sqlite\n",
      " * sqlite:///policies-v12.sqlite\n",
      "Done.\n"
     ]
    },
    {
     "data": {
      "text/html": [
       "<table>\n",
       "    <tr>\n",
       "        <th>name</th>\n",
       "    </tr>\n",
       "    <tr>\n",
       "        <td>Bombas III</td>\n",
       "    </tr>\n",
       "    <tr>\n",
       "        <td>Geralt of Rivia</td>\n",
       "    </tr>\n",
       "</table>"
      ],
      "text/plain": [
       "[('Bombas III',), ('Geralt of Rivia',)]"
      ]
     },
     "execution_count": 31,
     "metadata": {},
     "output_type": "execute_result"
    }
   ],
   "source": [
    "%%sql\n",
    "SELECT name FROM Customers\n",
    "GROUP BY name\n",
    "HAVING COUNT(*) > 1"
   ]
  },
  {
   "cell_type": "markdown",
   "metadata": {},
   "source": [
    "### Query 2\n",
    "The name and driver license of customers who had 2 or more accidents in the past year."
   ]
  },
  {
   "cell_type": "code",
   "execution_count": 92,
   "metadata": {},
   "outputs": [
    {
     "name": "stdout",
     "output_type": "stream",
     "text": [
      " * sqlite:///policies-v12.sqlite\n",
      "Done.\n"
     ]
    },
    {
     "data": {
      "text/html": [
       "<table>\n",
       "    <tr>\n",
       "        <th>name</th>\n",
       "        <th>driver_license</th>\n",
       "    </tr>\n",
       "    <tr>\n",
       "        <td>Bombas III</td>\n",
       "        <td>H1D1YCFQX</td>\n",
       "    </tr>\n",
       "    <tr>\n",
       "        <td>Bjorn of Hearthyme</td>\n",
       "        <td>JJFDC3L9W</td>\n",
       "    </tr>\n",
       "</table>"
      ],
      "text/plain": [
       "[('Bombas III', 'H1D1YCFQX'), ('Bjorn of Hearthyme', 'JJFDC3L9W')]"
      ]
     },
     "execution_count": 92,
     "metadata": {},
     "output_type": "execute_result"
    }
   ],
   "source": [
    "%%sql\n",
    "SELECT name, driver_license FROM Customers\n",
    "JOIN VehiclePolicies USING (policy_number)\n",
    "JOIN Reports USING (driver_license)\n",
    "GROUP BY driver_license\n",
    "HAVING COUNT(driver_license) >= 2"
   ]
  },
  {
   "cell_type": "markdown",
   "metadata": {},
   "source": [
    "### Query 3\n",
    "Find the total number of customers who owned cars that were involved in accidents in 2022."
   ]
  },
  {
   "cell_type": "code",
   "execution_count": 45,
   "metadata": {},
   "outputs": [
    {
     "name": "stdout",
     "output_type": "stream",
     "text": [
      " * sqlite:///policies-v12.sqlite\n",
      "Done.\n"
     ]
    },
    {
     "data": {
      "text/html": [
       "<table>\n",
       "    <tr>\n",
       "        <th>total_involved_in_accidents_2022</th>\n",
       "    </tr>\n",
       "    <tr>\n",
       "        <td>3</td>\n",
       "    </tr>\n",
       "</table>"
      ],
      "text/plain": [
       "[(3,)]"
      ]
     },
     "execution_count": 45,
     "metadata": {},
     "output_type": "execute_result"
    }
   ],
   "source": [
    "%%sql\n",
    "SELECT COUNT(DISTINCT driver_license) AS total_involved_in_accidents_2022 FROM Reports\n",
    "WHERE date > '2021-12-31'"
   ]
  },
  {
   "cell_type": "markdown",
   "metadata": {},
   "source": [
    "### Query 4\n",
    "Find the name of the customer who has the most number of accidents (total accidents)."
   ]
  },
  {
   "cell_type": "code",
   "execution_count": 91,
   "metadata": {},
   "outputs": [
    {
     "name": "stdout",
     "output_type": "stream",
     "text": [
      " * sqlite:///policies-v12.sqlite\n",
      "Done.\n"
     ]
    },
    {
     "data": {
      "text/html": [
       "<table>\n",
       "    <tr>\n",
       "        <th>name</th>\n",
       "        <th>driver_license</th>\n",
       "        <th>COUNT(driver_license)</th>\n",
       "    </tr>\n",
       "    <tr>\n",
       "        <td>Bjorn of Hearthyme</td>\n",
       "        <td>JJFDC3L9W</td>\n",
       "        <td>6</td>\n",
       "    </tr>\n",
       "</table>"
      ],
      "text/plain": [
       "[('Bjorn of Hearthyme', 'JJFDC3L9W', 6)]"
      ]
     },
     "execution_count": 91,
     "metadata": {},
     "output_type": "execute_result"
    }
   ],
   "source": [
    "%%sql\n",
    "SELECT name, driver_license FROM Customers\n",
    "JOIN VehiclePolicies USING (policy_number)\n",
    "JOIN Reports USING (driver_license)\n",
    "GROUP BY driver_license\n",
    "ORDER BY COUNT(driver_license) DESC\n",
    "LIMIT 1"
   ]
  },
  {
   "cell_type": "markdown",
   "metadata": {},
   "source": [
    "### Query 5\n",
    "Find the name of customers who own a life policy but not a vehicle policy."
   ]
  },
  {
   "cell_type": "code",
   "execution_count": 21,
   "metadata": {},
   "outputs": [
    {
     "name": "stdout",
     "output_type": "stream",
     "text": [
      " * sqlite:///policies-v12.sqlite\n",
      "Done.\n"
     ]
    },
    {
     "data": {
      "text/html": [
       "<table>\n",
       "    <tr>\n",
       "        <th>name</th>\n",
       "    </tr>\n",
       "    <tr>\n",
       "        <td>Sonny Johannson</td>\n",
       "    </tr>\n",
       "    <tr>\n",
       "        <td>Tyr of Himbrosia</td>\n",
       "    </tr>\n",
       "</table>"
      ],
      "text/plain": [
       "[('Sonny Johannson',), ('Tyr of Himbrosia',)]"
      ]
     },
     "execution_count": 21,
     "metadata": {},
     "output_type": "execute_result"
    }
   ],
   "source": [
    "%%sql\n",
    "SELECT name FROM Customers\n",
    "JOIN Policies USING (policy_number)\n",
    "GROUP BY name\n",
    "HAVING COUNT(*) = 1 AND coverage = 'life'"
   ]
  },
  {
   "cell_type": "markdown",
   "metadata": {},
   "source": [
    "### Query 6\n",
    "Find the name of customers who either owned a Honda CRV or been in an accident with a Honda CRV."
   ]
  },
  {
   "cell_type": "code",
   "execution_count": 122,
   "metadata": {},
   "outputs": [
    {
     "name": "stdout",
     "output_type": "stream",
     "text": [
      " * sqlite:///policies-v12.sqlite\n",
      "Done.\n"
     ]
    },
    {
     "data": {
      "text/html": [
       "<table>\n",
       "    <tr>\n",
       "        <th>name</th>\n",
       "    </tr>\n",
       "    <tr>\n",
       "        <td>Bjorn of Hearthyme</td>\n",
       "    </tr>\n",
       "    <tr>\n",
       "        <td>Bombas III</td>\n",
       "    </tr>\n",
       "</table>"
      ],
      "text/plain": [
       "[('Bjorn of Hearthyme',), ('Bombas III',)]"
      ]
     },
     "execution_count": 122,
     "metadata": {},
     "output_type": "execute_result"
    }
   ],
   "source": [
    "%%sql\n",
    "SELECT a.name FROM Customers a\n",
    "JOIN VehiclePolicies v ON (v.policy_number = a.policy_number)\n",
    "JOIN Reports USING (driver_license)\n",
    "JOIN Customers b ON (Reports.other_driver_license = b.driver_license)\n",
    "JOIN VehiclePolicies w ON (w.policy_number = b.policy_number)\n",
    "JOIN Vehicles x ON (x.vehicle_VIN = v.vehicle_VIN)\n",
    "JOIN Vehicles y ON (y.vehicle_VIN = w.vehicle_VIN)\n",
    "WHERE x.model = 'Honda CRV' OR y.model = 'Honda CRV'\n",
    "GROUP BY a.name"
   ]
  },
  {
   "cell_type": "markdown",
   "metadata": {},
   "source": [
    "### Query 7\n",
    "Find the name of customers who never owned a Honda CRV or been in an accident with a Honda CRV."
   ]
  },
  {
   "cell_type": "code",
   "execution_count": 136,
   "metadata": {},
   "outputs": [
    {
     "name": "stdout",
     "output_type": "stream",
     "text": [
      " * sqlite:///policies-v12.sqlite\n",
      "Done.\n"
     ]
    },
    {
     "data": {
      "text/html": [
       "<table>\n",
       "    <tr>\n",
       "        <th>name</th>\n",
       "    </tr>\n",
       "    <tr>\n",
       "        <td>Geralt of Rivia</td>\n",
       "    </tr>\n",
       "</table>"
      ],
      "text/plain": [
       "[('Geralt of Rivia',)]"
      ]
     },
     "execution_count": 136,
     "metadata": {},
     "output_type": "execute_result"
    }
   ],
   "source": [
    "%%sql\n",
    "SELECT a.name FROM Customers a\n",
    "JOIN VehiclePolicies v ON (v.policy_number = a.policy_number)\n",
    "JOIN Reports USING (driver_license)\n",
    "JOIN Customers b ON (Reports.other_driver_license = b.driver_license)\n",
    "JOIN VehiclePolicies w ON (w.policy_number = b.policy_number)\n",
    "JOIN Vehicles x ON (x.vehicle_VIN = v.vehicle_VIN)\n",
    "JOIN Vehicles y ON (y.vehicle_VIN = w.vehicle_VIN)\n",
    "GROUP BY a.name\n",
    "HAVING x.model != 'Honda CRV' AND y.model != 'Honda CRV'"
   ]
  }
 ],
 "metadata": {
  "interpreter": {
   "hash": "916dbcbb3f70747c44a77c7bcd40155683ae19c65e1c03b4aa3499c5328201f1"
  },
  "kernelspec": {
   "display_name": "Python 3.8.10 64-bit",
   "language": "python",
   "name": "python3"
  },
  "language_info": {
   "codemirror_mode": {
    "name": "ipython",
    "version": 3
   },
   "file_extension": ".py",
   "mimetype": "text/x-python",
   "name": "python",
   "nbconvert_exporter": "python",
   "pygments_lexer": "ipython3",
   "version": "3.8.10"
  },
  "orig_nbformat": 4
 },
 "nbformat": 4,
 "nbformat_minor": 2
}
