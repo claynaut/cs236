{
 "cells": [
  {
   "cell_type": "markdown",
   "metadata": {},
   "source": [
    "# CS 236 Assignment 1: Part 3 Dependency\n",
    "> Author: Jamella Pescasio (jpesc002)\n",
    "\n",
    "## Purpose\n",
    "Insert entries into the database file in order to make queries.\n",
    "\n",
    "## Setup"
   ]
  },
  {
   "cell_type": "code",
   "execution_count": 248,
   "metadata": {},
   "outputs": [
    {
     "name": "stdout",
     "output_type": "stream",
     "text": [
      "The sql extension is already loaded. To reload it, use:\n",
      "  %reload_ext sql\n"
     ]
    }
   ],
   "source": [
    "# load extension (only needed once)\n",
    "%load_ext sql"
   ]
  },
  {
   "cell_type": "code",
   "execution_count": 249,
   "metadata": {},
   "outputs": [],
   "source": [
    "# initializes db and creates respective file in same directory\n",
    "%sql sqlite:///policies-v12.sqlite"
   ]
  },
  {
   "cell_type": "markdown",
   "metadata": {},
   "source": [
    "## Insert Entries\n",
    "Code blocks below insert entries to be queried in `part3.ipynb`. Enough entries are inserted to complete the final part of the assignment and show correctness."
   ]
  },
  {
   "cell_type": "code",
   "execution_count": 250,
   "metadata": {},
   "outputs": [
    {
     "name": "stdout",
     "output_type": "stream",
     "text": [
      "   sqlite:///policies-v10.sqlite\n",
      "   sqlite:///policies-v11.sqlite\n",
      " * sqlite:///policies-v12.sqlite\n",
      "   sqlite:///policies-v2.sqlite\n",
      "   sqlite:///policies-v4.sqlite\n",
      "   sqlite:///policies-v5.sqlite\n",
      "   sqlite:///policies-v6.sqlite\n",
      "   sqlite:///policies-v7.sqlite\n",
      "   sqlite:///policies-v8.sqlite\n",
      "   sqlite:///policies-v9.sqlite\n",
      "1 rows affected.\n"
     ]
    },
    {
     "data": {
      "text/plain": [
       "[]"
      ]
     },
     "execution_count": 250,
     "metadata": {},
     "output_type": "execute_result"
    }
   ],
   "source": [
    "%%sql\n",
    "INSERT INTO Policies (term_price, coverage, date)\n",
    "VALUES (\n",
    "    1000,\n",
    "    'life',\n",
    "    '2021-02-10'\n",
    ")"
   ]
  },
  {
   "cell_type": "code",
   "execution_count": 251,
   "metadata": {},
   "outputs": [
    {
     "name": "stdout",
     "output_type": "stream",
     "text": [
      "   sqlite:///policies-v10.sqlite\n",
      "   sqlite:///policies-v11.sqlite\n",
      " * sqlite:///policies-v12.sqlite\n",
      "   sqlite:///policies-v2.sqlite\n",
      "   sqlite:///policies-v4.sqlite\n",
      "   sqlite:///policies-v5.sqlite\n",
      "   sqlite:///policies-v6.sqlite\n",
      "   sqlite:///policies-v7.sqlite\n",
      "   sqlite:///policies-v8.sqlite\n",
      "   sqlite:///policies-v9.sqlite\n",
      "1 rows affected.\n"
     ]
    },
    {
     "data": {
      "text/plain": [
       "[]"
      ]
     },
     "execution_count": 251,
     "metadata": {},
     "output_type": "execute_result"
    }
   ],
   "source": [
    "%%sql\n",
    "INSERT INTO Policies (term_price, coverage, date)\n",
    "VALUES (\n",
    "    1500,\n",
    "    'life',\n",
    "    '2021-01-21'\n",
    ")"
   ]
  },
  {
   "cell_type": "code",
   "execution_count": 252,
   "metadata": {},
   "outputs": [
    {
     "name": "stdout",
     "output_type": "stream",
     "text": [
      "   sqlite:///policies-v10.sqlite\n",
      "   sqlite:///policies-v11.sqlite\n",
      " * sqlite:///policies-v12.sqlite\n",
      "   sqlite:///policies-v2.sqlite\n",
      "   sqlite:///policies-v4.sqlite\n",
      "   sqlite:///policies-v5.sqlite\n",
      "   sqlite:///policies-v6.sqlite\n",
      "   sqlite:///policies-v7.sqlite\n",
      "   sqlite:///policies-v8.sqlite\n",
      "   sqlite:///policies-v9.sqlite\n",
      "1 rows affected.\n"
     ]
    },
    {
     "data": {
      "text/plain": [
       "[]"
      ]
     },
     "execution_count": 252,
     "metadata": {},
     "output_type": "execute_result"
    }
   ],
   "source": [
    "%%sql\n",
    "INSERT INTO Policies (term_price, coverage, date)\n",
    "VALUES (\n",
    "    2000,\n",
    "    'vehicle',\n",
    "    '2021-03-31'\n",
    ")"
   ]
  },
  {
   "cell_type": "code",
   "execution_count": 253,
   "metadata": {},
   "outputs": [
    {
     "name": "stdout",
     "output_type": "stream",
     "text": [
      "   sqlite:///policies-v10.sqlite\n",
      "   sqlite:///policies-v11.sqlite\n",
      " * sqlite:///policies-v12.sqlite\n",
      "   sqlite:///policies-v2.sqlite\n",
      "   sqlite:///policies-v4.sqlite\n",
      "   sqlite:///policies-v5.sqlite\n",
      "   sqlite:///policies-v6.sqlite\n",
      "   sqlite:///policies-v7.sqlite\n",
      "   sqlite:///policies-v8.sqlite\n",
      "   sqlite:///policies-v9.sqlite\n",
      "1 rows affected.\n"
     ]
    },
    {
     "data": {
      "text/plain": [
       "[]"
      ]
     },
     "execution_count": 253,
     "metadata": {},
     "output_type": "execute_result"
    }
   ],
   "source": [
    "%%sql\n",
    "INSERT INTO Policies (term_price, coverage, date)\n",
    "VALUES (\n",
    "    1800,\n",
    "    'life',\n",
    "    '2022-01-07'\n",
    ")"
   ]
  },
  {
   "cell_type": "code",
   "execution_count": 254,
   "metadata": {},
   "outputs": [
    {
     "name": "stdout",
     "output_type": "stream",
     "text": [
      "   sqlite:///policies-v10.sqlite\n",
      "   sqlite:///policies-v11.sqlite\n",
      " * sqlite:///policies-v12.sqlite\n",
      "   sqlite:///policies-v2.sqlite\n",
      "   sqlite:///policies-v4.sqlite\n",
      "   sqlite:///policies-v5.sqlite\n",
      "   sqlite:///policies-v6.sqlite\n",
      "   sqlite:///policies-v7.sqlite\n",
      "   sqlite:///policies-v8.sqlite\n",
      "   sqlite:///policies-v9.sqlite\n",
      "1 rows affected.\n"
     ]
    },
    {
     "data": {
      "text/plain": [
       "[]"
      ]
     },
     "execution_count": 254,
     "metadata": {},
     "output_type": "execute_result"
    }
   ],
   "source": [
    "%%sql\n",
    "INSERT INTO Policies (term_price, coverage, date)\n",
    "VALUES (\n",
    "    2500,\n",
    "    'vehicle',\n",
    "    '2022-02-01'\n",
    ")"
   ]
  },
  {
   "cell_type": "code",
   "execution_count": 255,
   "metadata": {},
   "outputs": [
    {
     "name": "stdout",
     "output_type": "stream",
     "text": [
      "   sqlite:///policies-v10.sqlite\n",
      "   sqlite:///policies-v11.sqlite\n",
      " * sqlite:///policies-v12.sqlite\n",
      "   sqlite:///policies-v2.sqlite\n",
      "   sqlite:///policies-v4.sqlite\n",
      "   sqlite:///policies-v5.sqlite\n",
      "   sqlite:///policies-v6.sqlite\n",
      "   sqlite:///policies-v7.sqlite\n",
      "   sqlite:///policies-v8.sqlite\n",
      "   sqlite:///policies-v9.sqlite\n",
      "1 rows affected.\n"
     ]
    },
    {
     "data": {
      "text/plain": [
       "[]"
      ]
     },
     "execution_count": 255,
     "metadata": {},
     "output_type": "execute_result"
    }
   ],
   "source": [
    "%%sql\n",
    "INSERT INTO Policies (term_price, coverage, date)\n",
    "VALUES (\n",
    "    3000,\n",
    "    'vehicle',\n",
    "    '2022-02-23'\n",
    ")"
   ]
  },
  {
   "cell_type": "code",
   "execution_count": 256,
   "metadata": {},
   "outputs": [
    {
     "name": "stdout",
     "output_type": "stream",
     "text": [
      "   sqlite:///policies-v10.sqlite\n",
      "   sqlite:///policies-v11.sqlite\n",
      " * sqlite:///policies-v12.sqlite\n",
      "   sqlite:///policies-v2.sqlite\n",
      "   sqlite:///policies-v4.sqlite\n",
      "   sqlite:///policies-v5.sqlite\n",
      "   sqlite:///policies-v6.sqlite\n",
      "   sqlite:///policies-v7.sqlite\n",
      "   sqlite:///policies-v8.sqlite\n",
      "   sqlite:///policies-v9.sqlite\n",
      "1 rows affected.\n"
     ]
    },
    {
     "data": {
      "text/plain": [
       "[]"
      ]
     },
     "execution_count": 256,
     "metadata": {},
     "output_type": "execute_result"
    }
   ],
   "source": [
    "%%sql\n",
    "INSERT INTO Policies (term_price, coverage, date)\n",
    "VALUES (\n",
    "    3200,\n",
    "    'life',\n",
    "    '2022-02-28'\n",
    ")"
   ]
  },
  {
   "cell_type": "code",
   "execution_count": 257,
   "metadata": {},
   "outputs": [
    {
     "name": "stdout",
     "output_type": "stream",
     "text": [
      "   sqlite:///policies-v10.sqlite\n",
      "   sqlite:///policies-v11.sqlite\n",
      " * sqlite:///policies-v12.sqlite\n",
      "   sqlite:///policies-v2.sqlite\n",
      "   sqlite:///policies-v4.sqlite\n",
      "   sqlite:///policies-v5.sqlite\n",
      "   sqlite:///policies-v6.sqlite\n",
      "   sqlite:///policies-v7.sqlite\n",
      "   sqlite:///policies-v8.sqlite\n",
      "   sqlite:///policies-v9.sqlite\n",
      "Done.\n"
     ]
    },
    {
     "data": {
      "text/html": [
       "<table>\n",
       "    <tr>\n",
       "        <th>policy_number</th>\n",
       "        <th>term_price</th>\n",
       "        <th>coverage</th>\n",
       "        <th>date</th>\n",
       "    </tr>\n",
       "    <tr>\n",
       "        <td>2</td>\n",
       "        <td>1500.0</td>\n",
       "        <td>life</td>\n",
       "        <td>2021-01-21</td>\n",
       "    </tr>\n",
       "    <tr>\n",
       "        <td>1</td>\n",
       "        <td>1000.0</td>\n",
       "        <td>life</td>\n",
       "        <td>2021-02-10</td>\n",
       "    </tr>\n",
       "    <tr>\n",
       "        <td>3</td>\n",
       "        <td>2000.0</td>\n",
       "        <td>vehicle</td>\n",
       "        <td>2021-03-31</td>\n",
       "    </tr>\n",
       "    <tr>\n",
       "        <td>4</td>\n",
       "        <td>1800.0</td>\n",
       "        <td>life</td>\n",
       "        <td>2022-01-07</td>\n",
       "    </tr>\n",
       "    <tr>\n",
       "        <td>5</td>\n",
       "        <td>2500.0</td>\n",
       "        <td>vehicle</td>\n",
       "        <td>2022-02-01</td>\n",
       "    </tr>\n",
       "    <tr>\n",
       "        <td>6</td>\n",
       "        <td>3000.0</td>\n",
       "        <td>vehicle</td>\n",
       "        <td>2022-02-23</td>\n",
       "    </tr>\n",
       "    <tr>\n",
       "        <td>7</td>\n",
       "        <td>3200.0</td>\n",
       "        <td>life</td>\n",
       "        <td>2022-02-28</td>\n",
       "    </tr>\n",
       "</table>"
      ],
      "text/plain": [
       "[(2, 1500.0, 'life', '2021-01-21'),\n",
       " (1, 1000.0, 'life', '2021-02-10'),\n",
       " (3, 2000.0, 'vehicle', '2021-03-31'),\n",
       " (4, 1800.0, 'life', '2022-01-07'),\n",
       " (5, 2500.0, 'vehicle', '2022-02-01'),\n",
       " (6, 3000.0, 'vehicle', '2022-02-23'),\n",
       " (7, 3200.0, 'life', '2022-02-28')]"
      ]
     },
     "execution_count": 257,
     "metadata": {},
     "output_type": "execute_result"
    }
   ],
   "source": [
    "%%sql\n",
    "SELECT * FROM Policies\n",
    "ORDER BY date ASC"
   ]
  },
  {
   "cell_type": "code",
   "execution_count": 258,
   "metadata": {},
   "outputs": [
    {
     "name": "stdout",
     "output_type": "stream",
     "text": [
      "   sqlite:///policies-v10.sqlite\n",
      "   sqlite:///policies-v11.sqlite\n",
      " * sqlite:///policies-v12.sqlite\n",
      "   sqlite:///policies-v2.sqlite\n",
      "   sqlite:///policies-v4.sqlite\n",
      "   sqlite:///policies-v5.sqlite\n",
      "   sqlite:///policies-v6.sqlite\n",
      "   sqlite:///policies-v7.sqlite\n",
      "   sqlite:///policies-v8.sqlite\n",
      "   sqlite:///policies-v9.sqlite\n",
      "1 rows affected.\n"
     ]
    },
    {
     "data": {
      "text/plain": [
       "[]"
      ]
     },
     "execution_count": 258,
     "metadata": {},
     "output_type": "execute_result"
    }
   ],
   "source": [
    "%%sql\n",
    "INSERT INTO VehiclePolicies (type, driving_history, policy_number, vehicle_VIN)\n",
    "VALUES (\n",
    "    'new',\n",
    "    '{{}}',\n",
    "    3,\n",
    "    'qkheN4Gybl0TrY4Y'\n",
    ")"
   ]
  },
  {
   "cell_type": "code",
   "execution_count": 259,
   "metadata": {},
   "outputs": [
    {
     "name": "stdout",
     "output_type": "stream",
     "text": [
      "   sqlite:///policies-v10.sqlite\n",
      "   sqlite:///policies-v11.sqlite\n",
      " * sqlite:///policies-v12.sqlite\n",
      "   sqlite:///policies-v2.sqlite\n",
      "   sqlite:///policies-v4.sqlite\n",
      "   sqlite:///policies-v5.sqlite\n",
      "   sqlite:///policies-v6.sqlite\n",
      "   sqlite:///policies-v7.sqlite\n",
      "   sqlite:///policies-v8.sqlite\n",
      "   sqlite:///policies-v9.sqlite\n",
      "1 rows affected.\n"
     ]
    },
    {
     "data": {
      "text/plain": [
       "[]"
      ]
     },
     "execution_count": 259,
     "metadata": {},
     "output_type": "execute_result"
    }
   ],
   "source": [
    "%%sql\n",
    "INSERT INTO VehiclePolicies (type, driving_history, policy_number, vehicle_VIN)\n",
    "VALUES (\n",
    "    'new',\n",
    "    '{{}}',\n",
    "    5,\n",
    "    'uWUpcJ6bInty-n2h'\n",
    ")"
   ]
  },
  {
   "cell_type": "code",
   "execution_count": 260,
   "metadata": {},
   "outputs": [
    {
     "name": "stdout",
     "output_type": "stream",
     "text": [
      "   sqlite:///policies-v10.sqlite\n",
      "   sqlite:///policies-v11.sqlite\n",
      " * sqlite:///policies-v12.sqlite\n",
      "   sqlite:///policies-v2.sqlite\n",
      "   sqlite:///policies-v4.sqlite\n",
      "   sqlite:///policies-v5.sqlite\n",
      "   sqlite:///policies-v6.sqlite\n",
      "   sqlite:///policies-v7.sqlite\n",
      "   sqlite:///policies-v8.sqlite\n",
      "   sqlite:///policies-v9.sqlite\n",
      "1 rows affected.\n"
     ]
    },
    {
     "data": {
      "text/plain": [
       "[]"
      ]
     },
     "execution_count": 260,
     "metadata": {},
     "output_type": "execute_result"
    }
   ],
   "source": [
    "%%sql\n",
    "INSERT INTO VehiclePolicies (type, driving_history, policy_number, vehicle_VIN)\n",
    "VALUES (\n",
    "    'old',\n",
    "    '{{}}',\n",
    "    6,\n",
    "    'uEwbgarW9SNd5d04'\n",
    ")"
   ]
  },
  {
   "cell_type": "code",
   "execution_count": 261,
   "metadata": {},
   "outputs": [
    {
     "name": "stdout",
     "output_type": "stream",
     "text": [
      "   sqlite:///policies-v10.sqlite\n",
      "   sqlite:///policies-v11.sqlite\n",
      " * sqlite:///policies-v12.sqlite\n",
      "   sqlite:///policies-v2.sqlite\n",
      "   sqlite:///policies-v4.sqlite\n",
      "   sqlite:///policies-v5.sqlite\n",
      "   sqlite:///policies-v6.sqlite\n",
      "   sqlite:///policies-v7.sqlite\n",
      "   sqlite:///policies-v8.sqlite\n",
      "   sqlite:///policies-v9.sqlite\n",
      "Done.\n"
     ]
    },
    {
     "data": {
      "text/html": [
       "<table>\n",
       "    <tr>\n",
       "        <th>id</th>\n",
       "        <th>type</th>\n",
       "        <th>driving_history</th>\n",
       "        <th>policy_number</th>\n",
       "        <th>vehicle_VIN</th>\n",
       "    </tr>\n",
       "    <tr>\n",
       "        <td>1</td>\n",
       "        <td>new</td>\n",
       "        <td>{}</td>\n",
       "        <td>3</td>\n",
       "        <td>qkheN4Gybl0TrY4Y</td>\n",
       "    </tr>\n",
       "    <tr>\n",
       "        <td>2</td>\n",
       "        <td>new</td>\n",
       "        <td>{}</td>\n",
       "        <td>5</td>\n",
       "        <td>uWUpcJ6bInty-n2h</td>\n",
       "    </tr>\n",
       "    <tr>\n",
       "        <td>3</td>\n",
       "        <td>old</td>\n",
       "        <td>{}</td>\n",
       "        <td>6</td>\n",
       "        <td>uEwbgarW9SNd5d04</td>\n",
       "    </tr>\n",
       "</table>"
      ],
      "text/plain": [
       "[(1, 'new', '{}', 3, 'qkheN4Gybl0TrY4Y'),\n",
       " (2, 'new', '{}', 5, 'uWUpcJ6bInty-n2h'),\n",
       " (3, 'old', '{}', 6, 'uEwbgarW9SNd5d04')]"
      ]
     },
     "execution_count": 261,
     "metadata": {},
     "output_type": "execute_result"
    }
   ],
   "source": [
    "%%sql\n",
    "SELECT * FROM VehiclePolicies"
   ]
  },
  {
   "cell_type": "code",
   "execution_count": 262,
   "metadata": {},
   "outputs": [
    {
     "name": "stdout",
     "output_type": "stream",
     "text": [
      "   sqlite:///policies-v10.sqlite\n",
      "   sqlite:///policies-v11.sqlite\n",
      " * sqlite:///policies-v12.sqlite\n",
      "   sqlite:///policies-v2.sqlite\n",
      "   sqlite:///policies-v4.sqlite\n",
      "   sqlite:///policies-v5.sqlite\n",
      "   sqlite:///policies-v6.sqlite\n",
      "   sqlite:///policies-v7.sqlite\n",
      "   sqlite:///policies-v8.sqlite\n",
      "   sqlite:///policies-v9.sqlite\n",
      "1 rows affected.\n"
     ]
    },
    {
     "data": {
      "text/plain": [
       "[]"
      ]
     },
     "execution_count": 262,
     "metadata": {},
     "output_type": "execute_result"
    }
   ],
   "source": [
    "%%sql\n",
    "INSERT INTO LifePolicies (value, min_age, max_age, policy_number)\n",
    "VALUES (\n",
    "    50000,\n",
    "    18,\n",
    "    65,\n",
    "    2\n",
    ")"
   ]
  },
  {
   "cell_type": "code",
   "execution_count": 263,
   "metadata": {},
   "outputs": [
    {
     "name": "stdout",
     "output_type": "stream",
     "text": [
      "   sqlite:///policies-v10.sqlite\n",
      "   sqlite:///policies-v11.sqlite\n",
      " * sqlite:///policies-v12.sqlite\n",
      "   sqlite:///policies-v2.sqlite\n",
      "   sqlite:///policies-v4.sqlite\n",
      "   sqlite:///policies-v5.sqlite\n",
      "   sqlite:///policies-v6.sqlite\n",
      "   sqlite:///policies-v7.sqlite\n",
      "   sqlite:///policies-v8.sqlite\n",
      "   sqlite:///policies-v9.sqlite\n",
      "1 rows affected.\n"
     ]
    },
    {
     "data": {
      "text/plain": [
       "[]"
      ]
     },
     "execution_count": 263,
     "metadata": {},
     "output_type": "execute_result"
    }
   ],
   "source": [
    "%%sql\n",
    "INSERT INTO LifePolicies (value, min_age, max_age, policy_number)\n",
    "VALUES (\n",
    "    55000,\n",
    "    21,\n",
    "    65,\n",
    "    1\n",
    ")"
   ]
  },
  {
   "cell_type": "code",
   "execution_count": 264,
   "metadata": {},
   "outputs": [
    {
     "name": "stdout",
     "output_type": "stream",
     "text": [
      "   sqlite:///policies-v10.sqlite\n",
      "   sqlite:///policies-v11.sqlite\n",
      " * sqlite:///policies-v12.sqlite\n",
      "   sqlite:///policies-v2.sqlite\n",
      "   sqlite:///policies-v4.sqlite\n",
      "   sqlite:///policies-v5.sqlite\n",
      "   sqlite:///policies-v6.sqlite\n",
      "   sqlite:///policies-v7.sqlite\n",
      "   sqlite:///policies-v8.sqlite\n",
      "   sqlite:///policies-v9.sqlite\n",
      "1 rows affected.\n"
     ]
    },
    {
     "data": {
      "text/plain": [
       "[]"
      ]
     },
     "execution_count": 264,
     "metadata": {},
     "output_type": "execute_result"
    }
   ],
   "source": [
    "%%sql\n",
    "INSERT INTO LifePolicies (value, min_age, max_age, policy_number)\n",
    "VALUES (\n",
    "    60000,\n",
    "    21,\n",
    "    70,\n",
    "    4\n",
    ")"
   ]
  },
  {
   "cell_type": "code",
   "execution_count": 265,
   "metadata": {},
   "outputs": [
    {
     "name": "stdout",
     "output_type": "stream",
     "text": [
      "   sqlite:///policies-v10.sqlite\n",
      "   sqlite:///policies-v11.sqlite\n",
      " * sqlite:///policies-v12.sqlite\n",
      "   sqlite:///policies-v2.sqlite\n",
      "   sqlite:///policies-v4.sqlite\n",
      "   sqlite:///policies-v5.sqlite\n",
      "   sqlite:///policies-v6.sqlite\n",
      "   sqlite:///policies-v7.sqlite\n",
      "   sqlite:///policies-v8.sqlite\n",
      "   sqlite:///policies-v9.sqlite\n",
      "1 rows affected.\n"
     ]
    },
    {
     "data": {
      "text/plain": [
       "[]"
      ]
     },
     "execution_count": 265,
     "metadata": {},
     "output_type": "execute_result"
    }
   ],
   "source": [
    "%%sql\n",
    "INSERT INTO LifePolicies (value, min_age, max_age, policy_number)\n",
    "VALUES (\n",
    "    62500,\n",
    "    25,\n",
    "    70,\n",
    "    7\n",
    ")"
   ]
  },
  {
   "cell_type": "code",
   "execution_count": 266,
   "metadata": {},
   "outputs": [
    {
     "name": "stdout",
     "output_type": "stream",
     "text": [
      "   sqlite:///policies-v10.sqlite\n",
      "   sqlite:///policies-v11.sqlite\n",
      " * sqlite:///policies-v12.sqlite\n",
      "   sqlite:///policies-v2.sqlite\n",
      "   sqlite:///policies-v4.sqlite\n",
      "   sqlite:///policies-v5.sqlite\n",
      "   sqlite:///policies-v6.sqlite\n",
      "   sqlite:///policies-v7.sqlite\n",
      "   sqlite:///policies-v8.sqlite\n",
      "   sqlite:///policies-v9.sqlite\n",
      "Done.\n"
     ]
    },
    {
     "data": {
      "text/html": [
       "<table>\n",
       "    <tr>\n",
       "        <th>id</th>\n",
       "        <th>value</th>\n",
       "        <th>min_age</th>\n",
       "        <th>max_age</th>\n",
       "        <th>policy_number</th>\n",
       "    </tr>\n",
       "    <tr>\n",
       "        <td>1</td>\n",
       "        <td>50000</td>\n",
       "        <td>18</td>\n",
       "        <td>65</td>\n",
       "        <td>2</td>\n",
       "    </tr>\n",
       "    <tr>\n",
       "        <td>2</td>\n",
       "        <td>55000</td>\n",
       "        <td>21</td>\n",
       "        <td>65</td>\n",
       "        <td>1</td>\n",
       "    </tr>\n",
       "    <tr>\n",
       "        <td>3</td>\n",
       "        <td>60000</td>\n",
       "        <td>21</td>\n",
       "        <td>70</td>\n",
       "        <td>4</td>\n",
       "    </tr>\n",
       "    <tr>\n",
       "        <td>4</td>\n",
       "        <td>62500</td>\n",
       "        <td>25</td>\n",
       "        <td>70</td>\n",
       "        <td>7</td>\n",
       "    </tr>\n",
       "</table>"
      ],
      "text/plain": [
       "[(1, 50000, 18, 65, 2),\n",
       " (2, 55000, 21, 65, 1),\n",
       " (3, 60000, 21, 70, 4),\n",
       " (4, 62500, 25, 70, 7)]"
      ]
     },
     "execution_count": 266,
     "metadata": {},
     "output_type": "execute_result"
    }
   ],
   "source": [
    "%%sql\n",
    "SELECT * FROM LifePolicies"
   ]
  },
  {
   "cell_type": "code",
   "execution_count": 267,
   "metadata": {},
   "outputs": [
    {
     "name": "stdout",
     "output_type": "stream",
     "text": [
      "   sqlite:///policies-v10.sqlite\n",
      "   sqlite:///policies-v11.sqlite\n",
      " * sqlite:///policies-v12.sqlite\n",
      "   sqlite:///policies-v2.sqlite\n",
      "   sqlite:///policies-v4.sqlite\n",
      "   sqlite:///policies-v5.sqlite\n",
      "   sqlite:///policies-v6.sqlite\n",
      "   sqlite:///policies-v7.sqlite\n",
      "   sqlite:///policies-v8.sqlite\n",
      "   sqlite:///policies-v9.sqlite\n",
      "1 rows affected.\n"
     ]
    },
    {
     "data": {
      "text/plain": [
       "[]"
      ]
     },
     "execution_count": 267,
     "metadata": {},
     "output_type": "execute_result"
    }
   ],
   "source": [
    "%%sql\n",
    "INSERT INTO Vehicles (vehicle_VIN, plate, registered_state, color, year, model)\n",
    "VALUES (\n",
    "    'qkheN4Gybl0TrY4Y',\n",
    "    'LH9WZID',\n",
    "    'CA',\n",
    "    'white',\n",
    "    2017,\n",
    "    'Honda CRV'\n",
    ")"
   ]
  },
  {
   "cell_type": "code",
   "execution_count": 269,
   "metadata": {},
   "outputs": [
    {
     "name": "stdout",
     "output_type": "stream",
     "text": [
      "   sqlite:///policies-v10.sqlite\n",
      "   sqlite:///policies-v11.sqlite\n",
      " * sqlite:///policies-v12.sqlite\n",
      "   sqlite:///policies-v2.sqlite\n",
      "   sqlite:///policies-v4.sqlite\n",
      "   sqlite:///policies-v5.sqlite\n",
      "   sqlite:///policies-v6.sqlite\n",
      "   sqlite:///policies-v7.sqlite\n",
      "   sqlite:///policies-v8.sqlite\n",
      "   sqlite:///policies-v9.sqlite\n",
      "1 rows affected.\n"
     ]
    },
    {
     "data": {
      "text/plain": [
       "[]"
      ]
     },
     "execution_count": 269,
     "metadata": {},
     "output_type": "execute_result"
    }
   ],
   "source": [
    "%%sql\n",
    "INSERT INTO Vehicles (vehicle_VIN, plate, registered_state, color, year, model)\n",
    "VALUES (\n",
    "    'uEwbgarW9SNd5d04',\n",
    "    'I0QIOXM',\n",
    "    'CA',\n",
    "    'yellow',\n",
    "    2008,\n",
    "    'Nissan XTerra'\n",
    ")"
   ]
  },
  {
   "cell_type": "code",
   "execution_count": 270,
   "metadata": {},
   "outputs": [
    {
     "name": "stdout",
     "output_type": "stream",
     "text": [
      "   sqlite:///policies-v10.sqlite\n",
      "   sqlite:///policies-v11.sqlite\n",
      " * sqlite:///policies-v12.sqlite\n",
      "   sqlite:///policies-v2.sqlite\n",
      "   sqlite:///policies-v4.sqlite\n",
      "   sqlite:///policies-v5.sqlite\n",
      "   sqlite:///policies-v6.sqlite\n",
      "   sqlite:///policies-v7.sqlite\n",
      "   sqlite:///policies-v8.sqlite\n",
      "   sqlite:///policies-v9.sqlite\n",
      "Done.\n"
     ]
    },
    {
     "data": {
      "text/html": [
       "<table>\n",
       "    <tr>\n",
       "        <th>vehicle_VIN</th>\n",
       "        <th>plate</th>\n",
       "        <th>registered_state</th>\n",
       "        <th>color</th>\n",
       "        <th>year</th>\n",
       "        <th>model</th>\n",
       "    </tr>\n",
       "    <tr>\n",
       "        <td>qkheN4Gybl0TrY4Y</td>\n",
       "        <td>LH9WZID</td>\n",
       "        <td>CA</td>\n",
       "        <td>white</td>\n",
       "        <td>2017</td>\n",
       "        <td>Honda CRV</td>\n",
       "    </tr>\n",
       "    <tr>\n",
       "        <td>uWUpcJ6bInty-n2h</td>\n",
       "        <td>IREURGI</td>\n",
       "        <td>CA</td>\n",
       "        <td>emerald</td>\n",
       "        <td>2022</td>\n",
       "        <td>BMW M3</td>\n",
       "    </tr>\n",
       "    <tr>\n",
       "        <td>uEwbgarW9SNd5d04</td>\n",
       "        <td>I0QIOXM</td>\n",
       "        <td>CA</td>\n",
       "        <td>yellow</td>\n",
       "        <td>2008</td>\n",
       "        <td>Nissan XTerra</td>\n",
       "    </tr>\n",
       "</table>"
      ],
      "text/plain": [
       "[('qkheN4Gybl0TrY4Y', 'LH9WZID', 'CA', 'white', 2017, 'Honda CRV'),\n",
       " ('uWUpcJ6bInty-n2h', 'IREURGI', 'CA', 'emerald', 2022, 'BMW M3'),\n",
       " ('uEwbgarW9SNd5d04', 'I0QIOXM', 'CA', 'yellow', 2008, 'Nissan XTerra')]"
      ]
     },
     "execution_count": 270,
     "metadata": {},
     "output_type": "execute_result"
    }
   ],
   "source": [
    "%%sql\n",
    "SELECT * FROM Vehicles"
   ]
  },
  {
   "cell_type": "code",
   "execution_count": 271,
   "metadata": {},
   "outputs": [
    {
     "name": "stdout",
     "output_type": "stream",
     "text": [
      "   sqlite:///policies-v10.sqlite\n",
      "   sqlite:///policies-v11.sqlite\n",
      " * sqlite:///policies-v12.sqlite\n",
      "   sqlite:///policies-v2.sqlite\n",
      "   sqlite:///policies-v4.sqlite\n",
      "   sqlite:///policies-v5.sqlite\n",
      "   sqlite:///policies-v6.sqlite\n",
      "   sqlite:///policies-v7.sqlite\n",
      "   sqlite:///policies-v8.sqlite\n",
      "   sqlite:///policies-v9.sqlite\n",
      "1 rows affected.\n"
     ]
    },
    {
     "data": {
      "text/plain": [
       "[]"
      ]
     },
     "execution_count": 271,
     "metadata": {},
     "output_type": "execute_result"
    }
   ],
   "source": [
    "%%sql\n",
    "INSERT INTO Cars (car_type, transmission_type, size, vehicle_VIN)\n",
    "VALUES (\n",
    "    'suv',\n",
    "    'automatic',\n",
    "    'midsize',\n",
    "    'qkheN4Gybl0TrY4Y'\n",
    ")"
   ]
  },
  {
   "cell_type": "code",
   "execution_count": 272,
   "metadata": {},
   "outputs": [
    {
     "name": "stdout",
     "output_type": "stream",
     "text": [
      "   sqlite:///policies-v10.sqlite\n",
      "   sqlite:///policies-v11.sqlite\n",
      " * sqlite:///policies-v12.sqlite\n",
      "   sqlite:///policies-v2.sqlite\n",
      "   sqlite:///policies-v4.sqlite\n",
      "   sqlite:///policies-v5.sqlite\n",
      "   sqlite:///policies-v6.sqlite\n",
      "   sqlite:///policies-v7.sqlite\n",
      "   sqlite:///policies-v8.sqlite\n",
      "   sqlite:///policies-v9.sqlite\n",
      "1 rows affected.\n"
     ]
    },
    {
     "data": {
      "text/plain": [
       "[]"
      ]
     },
     "execution_count": 272,
     "metadata": {},
     "output_type": "execute_result"
    }
   ],
   "source": [
    "%%sql\n",
    "INSERT INTO Cars (car_type, transmission_type, size, vehicle_VIN)\n",
    "VALUES (\n",
    "    'sedan',\n",
    "    'automatic',\n",
    "    'compact',\n",
    "    'uWUpcJ6bInty-n2h'\n",
    ")"
   ]
  },
  {
   "cell_type": "code",
   "execution_count": 273,
   "metadata": {},
   "outputs": [
    {
     "name": "stdout",
     "output_type": "stream",
     "text": [
      "   sqlite:///policies-v10.sqlite\n",
      "   sqlite:///policies-v11.sqlite\n",
      " * sqlite:///policies-v12.sqlite\n",
      "   sqlite:///policies-v2.sqlite\n",
      "   sqlite:///policies-v4.sqlite\n",
      "   sqlite:///policies-v5.sqlite\n",
      "   sqlite:///policies-v6.sqlite\n",
      "   sqlite:///policies-v7.sqlite\n",
      "   sqlite:///policies-v8.sqlite\n",
      "   sqlite:///policies-v9.sqlite\n",
      "1 rows affected.\n"
     ]
    },
    {
     "data": {
      "text/plain": [
       "[]"
      ]
     },
     "execution_count": 273,
     "metadata": {},
     "output_type": "execute_result"
    }
   ],
   "source": [
    "%%sql\n",
    "INSERT INTO Cars (car_type, transmission_type, size, vehicle_VIN)\n",
    "VALUES (\n",
    "    'suv',\n",
    "    'automatic',\n",
    "    'large',\n",
    "    'uEwbgarW9SNd5d04'\n",
    ")"
   ]
  },
  {
   "cell_type": "code",
   "execution_count": 274,
   "metadata": {},
   "outputs": [
    {
     "name": "stdout",
     "output_type": "stream",
     "text": [
      "   sqlite:///policies-v10.sqlite\n",
      "   sqlite:///policies-v11.sqlite\n",
      " * sqlite:///policies-v12.sqlite\n",
      "   sqlite:///policies-v2.sqlite\n",
      "   sqlite:///policies-v4.sqlite\n",
      "   sqlite:///policies-v5.sqlite\n",
      "   sqlite:///policies-v6.sqlite\n",
      "   sqlite:///policies-v7.sqlite\n",
      "   sqlite:///policies-v8.sqlite\n",
      "   sqlite:///policies-v9.sqlite\n",
      "Done.\n"
     ]
    },
    {
     "data": {
      "text/html": [
       "<table>\n",
       "    <tr>\n",
       "        <th>car_type</th>\n",
       "        <th>transmission_type</th>\n",
       "        <th>size</th>\n",
       "        <th>vehicle_VIN</th>\n",
       "    </tr>\n",
       "    <tr>\n",
       "        <td>suv</td>\n",
       "        <td>automatic</td>\n",
       "        <td>midsize</td>\n",
       "        <td>qkheN4Gybl0TrY4Y</td>\n",
       "    </tr>\n",
       "    <tr>\n",
       "        <td>sedan</td>\n",
       "        <td>automatic</td>\n",
       "        <td>compact</td>\n",
       "        <td>uWUpcJ6bInty-n2h</td>\n",
       "    </tr>\n",
       "    <tr>\n",
       "        <td>suv</td>\n",
       "        <td>automatic</td>\n",
       "        <td>large</td>\n",
       "        <td>uEwbgarW9SNd5d04</td>\n",
       "    </tr>\n",
       "</table>"
      ],
      "text/plain": [
       "[('suv', 'automatic', 'midsize', 'qkheN4Gybl0TrY4Y'),\n",
       " ('sedan', 'automatic', 'compact', 'uWUpcJ6bInty-n2h'),\n",
       " ('suv', 'automatic', 'large', 'uEwbgarW9SNd5d04')]"
      ]
     },
     "execution_count": 274,
     "metadata": {},
     "output_type": "execute_result"
    }
   ],
   "source": [
    "%%sql\n",
    "SELECT * FROM Cars"
   ]
  },
  {
   "cell_type": "code",
   "execution_count": 275,
   "metadata": {},
   "outputs": [
    {
     "name": "stdout",
     "output_type": "stream",
     "text": [
      "   sqlite:///policies-v10.sqlite\n",
      "   sqlite:///policies-v11.sqlite\n",
      " * sqlite:///policies-v12.sqlite\n",
      "   sqlite:///policies-v2.sqlite\n",
      "   sqlite:///policies-v4.sqlite\n",
      "   sqlite:///policies-v5.sqlite\n",
      "   sqlite:///policies-v6.sqlite\n",
      "   sqlite:///policies-v7.sqlite\n",
      "   sqlite:///policies-v8.sqlite\n",
      "   sqlite:///policies-v9.sqlite\n",
      "1 rows affected.\n"
     ]
    },
    {
     "data": {
      "text/plain": [
       "[]"
      ]
     },
     "execution_count": 275,
     "metadata": {},
     "output_type": "execute_result"
    }
   ],
   "source": [
    "%%sql\n",
    "INSERT INTO Customers (ssn, driver_license, name, telephone, address, policy_number)\n",
    "VALUES (\n",
    "    4930295821,\n",
    "    'H1D1YCFQX',\n",
    "    'Bombas III',\n",
    "    '888-888-8888',\n",
    "    'California, US',\n",
    "    2\n",
    ")"
   ]
  },
  {
   "cell_type": "code",
   "execution_count": 276,
   "metadata": {},
   "outputs": [
    {
     "name": "stdout",
     "output_type": "stream",
     "text": [
      "   sqlite:///policies-v10.sqlite\n",
      "   sqlite:///policies-v11.sqlite\n",
      " * sqlite:///policies-v12.sqlite\n",
      "   sqlite:///policies-v2.sqlite\n",
      "   sqlite:///policies-v4.sqlite\n",
      "   sqlite:///policies-v5.sqlite\n",
      "   sqlite:///policies-v6.sqlite\n",
      "   sqlite:///policies-v7.sqlite\n",
      "   sqlite:///policies-v8.sqlite\n",
      "   sqlite:///policies-v9.sqlite\n",
      "1 rows affected.\n"
     ]
    },
    {
     "data": {
      "text/plain": [
       "[]"
      ]
     },
     "execution_count": 276,
     "metadata": {},
     "output_type": "execute_result"
    }
   ],
   "source": [
    "%%sql\n",
    "INSERT INTO Customers (ssn, driver_license, name, telephone, address, policy_number)\n",
    "VALUES (\n",
    "    4930295821,\n",
    "    'H1D1YCFQX',\n",
    "    'Bombas III',\n",
    "    '888-888-8888',\n",
    "    'California, US',\n",
    "    3\n",
    ")"
   ]
  },
  {
   "cell_type": "code",
   "execution_count": 277,
   "metadata": {},
   "outputs": [
    {
     "name": "stdout",
     "output_type": "stream",
     "text": [
      "   sqlite:///policies-v10.sqlite\n",
      "   sqlite:///policies-v11.sqlite\n",
      " * sqlite:///policies-v12.sqlite\n",
      "   sqlite:///policies-v2.sqlite\n",
      "   sqlite:///policies-v4.sqlite\n",
      "   sqlite:///policies-v5.sqlite\n",
      "   sqlite:///policies-v6.sqlite\n",
      "   sqlite:///policies-v7.sqlite\n",
      "   sqlite:///policies-v8.sqlite\n",
      "   sqlite:///policies-v9.sqlite\n",
      "1 rows affected.\n"
     ]
    },
    {
     "data": {
      "text/plain": [
       "[]"
      ]
     },
     "execution_count": 277,
     "metadata": {},
     "output_type": "execute_result"
    }
   ],
   "source": [
    "%%sql\n",
    "INSERT INTO Customers (ssn, driver_license, name, telephone, address, policy_number)\n",
    "VALUES (\n",
    "    3945395209,\n",
    "    'QNGHZ3JDS',\n",
    "    'Geralt of Rivia',\n",
    "    '888-888-8888',\n",
    "    'California, US',\n",
    "    1\n",
    ")"
   ]
  },
  {
   "cell_type": "code",
   "execution_count": 278,
   "metadata": {},
   "outputs": [
    {
     "name": "stdout",
     "output_type": "stream",
     "text": [
      "   sqlite:///policies-v10.sqlite\n",
      "   sqlite:///policies-v11.sqlite\n",
      " * sqlite:///policies-v12.sqlite\n",
      "   sqlite:///policies-v2.sqlite\n",
      "   sqlite:///policies-v4.sqlite\n",
      "   sqlite:///policies-v5.sqlite\n",
      "   sqlite:///policies-v6.sqlite\n",
      "   sqlite:///policies-v7.sqlite\n",
      "   sqlite:///policies-v8.sqlite\n",
      "   sqlite:///policies-v9.sqlite\n",
      "1 rows affected.\n"
     ]
    },
    {
     "data": {
      "text/plain": [
       "[]"
      ]
     },
     "execution_count": 278,
     "metadata": {},
     "output_type": "execute_result"
    }
   ],
   "source": [
    "%%sql\n",
    "INSERT INTO Customers (ssn, driver_license, name, telephone, address, policy_number)\n",
    "VALUES (\n",
    "    3945395209,\n",
    "    'QNGHZ3JDS',\n",
    "    'Geralt of Rivia',\n",
    "    '888-888-8888',\n",
    "    'California, US',\n",
    "    5\n",
    ")"
   ]
  },
  {
   "cell_type": "code",
   "execution_count": 279,
   "metadata": {},
   "outputs": [
    {
     "name": "stdout",
     "output_type": "stream",
     "text": [
      "   sqlite:///policies-v10.sqlite\n",
      "   sqlite:///policies-v11.sqlite\n",
      " * sqlite:///policies-v12.sqlite\n",
      "   sqlite:///policies-v2.sqlite\n",
      "   sqlite:///policies-v4.sqlite\n",
      "   sqlite:///policies-v5.sqlite\n",
      "   sqlite:///policies-v6.sqlite\n",
      "   sqlite:///policies-v7.sqlite\n",
      "   sqlite:///policies-v8.sqlite\n",
      "   sqlite:///policies-v9.sqlite\n",
      "1 rows affected.\n"
     ]
    },
    {
     "data": {
      "text/plain": [
       "[]"
      ]
     },
     "execution_count": 279,
     "metadata": {},
     "output_type": "execute_result"
    }
   ],
   "source": [
    "%%sql\n",
    "INSERT INTO Customers (ssn, driver_license, name, telephone, address, policy_number)\n",
    "VALUES (\n",
    "    1049284220,\n",
    "    'BZY0SCZJ5',\n",
    "    'Sonny Johannson',\n",
    "    '888-888-8888',\n",
    "    'California, US',\n",
    "    4\n",
    ")"
   ]
  },
  {
   "cell_type": "code",
   "execution_count": 280,
   "metadata": {},
   "outputs": [
    {
     "name": "stdout",
     "output_type": "stream",
     "text": [
      "   sqlite:///policies-v10.sqlite\n",
      "   sqlite:///policies-v11.sqlite\n",
      " * sqlite:///policies-v12.sqlite\n",
      "   sqlite:///policies-v2.sqlite\n",
      "   sqlite:///policies-v4.sqlite\n",
      "   sqlite:///policies-v5.sqlite\n",
      "   sqlite:///policies-v6.sqlite\n",
      "   sqlite:///policies-v7.sqlite\n",
      "   sqlite:///policies-v8.sqlite\n",
      "   sqlite:///policies-v9.sqlite\n",
      "1 rows affected.\n"
     ]
    },
    {
     "data": {
      "text/plain": [
       "[]"
      ]
     },
     "execution_count": 280,
     "metadata": {},
     "output_type": "execute_result"
    }
   ],
   "source": [
    "%%sql\n",
    "INSERT INTO Customers (ssn, driver_license, name, telephone, address, policy_number)\n",
    "VALUES (\n",
    "    6903372111,\n",
    "    'JJFDC3L9W',\n",
    "    'Bjorn of Hearthyme',\n",
    "    '888-888-8888',\n",
    "    'California, US',\n",
    "    6\n",
    ")"
   ]
  },
  {
   "cell_type": "code",
   "execution_count": 281,
   "metadata": {},
   "outputs": [
    {
     "name": "stdout",
     "output_type": "stream",
     "text": [
      "   sqlite:///policies-v10.sqlite\n",
      "   sqlite:///policies-v11.sqlite\n",
      " * sqlite:///policies-v12.sqlite\n",
      "   sqlite:///policies-v2.sqlite\n",
      "   sqlite:///policies-v4.sqlite\n",
      "   sqlite:///policies-v5.sqlite\n",
      "   sqlite:///policies-v6.sqlite\n",
      "   sqlite:///policies-v7.sqlite\n",
      "   sqlite:///policies-v8.sqlite\n",
      "   sqlite:///policies-v9.sqlite\n",
      "1 rows affected.\n"
     ]
    },
    {
     "data": {
      "text/plain": [
       "[]"
      ]
     },
     "execution_count": 281,
     "metadata": {},
     "output_type": "execute_result"
    }
   ],
   "source": [
    "%%sql\n",
    "INSERT INTO Customers (ssn, driver_license, name, telephone, address, policy_number)\n",
    "VALUES (\n",
    "    8590023485,\n",
    "    'JMODZIDCQ',\n",
    "    'Tyr of Himbrosia',\n",
    "    '888-888-8888',\n",
    "    'California, US',\n",
    "    7\n",
    ")"
   ]
  },
  {
   "cell_type": "code",
   "execution_count": 282,
   "metadata": {},
   "outputs": [
    {
     "name": "stdout",
     "output_type": "stream",
     "text": [
      "   sqlite:///policies-v10.sqlite\n",
      "   sqlite:///policies-v11.sqlite\n",
      " * sqlite:///policies-v12.sqlite\n",
      "   sqlite:///policies-v2.sqlite\n",
      "   sqlite:///policies-v4.sqlite\n",
      "   sqlite:///policies-v5.sqlite\n",
      "   sqlite:///policies-v6.sqlite\n",
      "   sqlite:///policies-v7.sqlite\n",
      "   sqlite:///policies-v8.sqlite\n",
      "   sqlite:///policies-v9.sqlite\n",
      "Done.\n"
     ]
    },
    {
     "data": {
      "text/html": [
       "<table>\n",
       "    <tr>\n",
       "        <th>ssn</th>\n",
       "        <th>driver_license</th>\n",
       "        <th>name</th>\n",
       "        <th>telephone</th>\n",
       "        <th>address</th>\n",
       "        <th>policy_number</th>\n",
       "    </tr>\n",
       "    <tr>\n",
       "        <td>4930295821</td>\n",
       "        <td>H1D1YCFQX</td>\n",
       "        <td>Bombas III</td>\n",
       "        <td>888-888-8888</td>\n",
       "        <td>California, US</td>\n",
       "        <td>2</td>\n",
       "    </tr>\n",
       "    <tr>\n",
       "        <td>4930295821</td>\n",
       "        <td>H1D1YCFQX</td>\n",
       "        <td>Bombas III</td>\n",
       "        <td>888-888-8888</td>\n",
       "        <td>California, US</td>\n",
       "        <td>3</td>\n",
       "    </tr>\n",
       "    <tr>\n",
       "        <td>3945395209</td>\n",
       "        <td>QNGHZ3JDS</td>\n",
       "        <td>Geralt of Rivia</td>\n",
       "        <td>888-888-8888</td>\n",
       "        <td>California, US</td>\n",
       "        <td>1</td>\n",
       "    </tr>\n",
       "    <tr>\n",
       "        <td>3945395209</td>\n",
       "        <td>QNGHZ3JDS</td>\n",
       "        <td>Geralt of Rivia</td>\n",
       "        <td>888-888-8888</td>\n",
       "        <td>California, US</td>\n",
       "        <td>5</td>\n",
       "    </tr>\n",
       "    <tr>\n",
       "        <td>1049284220</td>\n",
       "        <td>BZY0SCZJ5</td>\n",
       "        <td>Sonny Johannson</td>\n",
       "        <td>888-888-8888</td>\n",
       "        <td>California, US</td>\n",
       "        <td>4</td>\n",
       "    </tr>\n",
       "    <tr>\n",
       "        <td>6903372111</td>\n",
       "        <td>JJFDC3L9W</td>\n",
       "        <td>Bjorn of Hearthyme</td>\n",
       "        <td>888-888-8888</td>\n",
       "        <td>California, US</td>\n",
       "        <td>6</td>\n",
       "    </tr>\n",
       "    <tr>\n",
       "        <td>8590023485</td>\n",
       "        <td>JMODZIDCQ</td>\n",
       "        <td>Tyr of Himbrosia</td>\n",
       "        <td>888-888-8888</td>\n",
       "        <td>California, US</td>\n",
       "        <td>7</td>\n",
       "    </tr>\n",
       "</table>"
      ],
      "text/plain": [
       "[(4930295821, 'H1D1YCFQX', 'Bombas III', '888-888-8888', 'California, US', 2),\n",
       " (4930295821, 'H1D1YCFQX', 'Bombas III', '888-888-8888', 'California, US', 3),\n",
       " (3945395209, 'QNGHZ3JDS', 'Geralt of Rivia', '888-888-8888', 'California, US', 1),\n",
       " (3945395209, 'QNGHZ3JDS', 'Geralt of Rivia', '888-888-8888', 'California, US', 5),\n",
       " (1049284220, 'BZY0SCZJ5', 'Sonny Johannson', '888-888-8888', 'California, US', 4),\n",
       " (6903372111, 'JJFDC3L9W', 'Bjorn of Hearthyme', '888-888-8888', 'California, US', 6),\n",
       " (8590023485, 'JMODZIDCQ', 'Tyr of Himbrosia', '888-888-8888', 'California, US', 7)]"
      ]
     },
     "execution_count": 282,
     "metadata": {},
     "output_type": "execute_result"
    }
   ],
   "source": [
    "%%sql\n",
    "SELECT * FROM Customers"
   ]
  },
  {
   "cell_type": "code",
   "execution_count": 283,
   "metadata": {},
   "outputs": [
    {
     "name": "stdout",
     "output_type": "stream",
     "text": [
      "   sqlite:///policies-v10.sqlite\n",
      "   sqlite:///policies-v11.sqlite\n",
      " * sqlite:///policies-v12.sqlite\n",
      "   sqlite:///policies-v2.sqlite\n",
      "   sqlite:///policies-v4.sqlite\n",
      "   sqlite:///policies-v5.sqlite\n",
      "   sqlite:///policies-v6.sqlite\n",
      "   sqlite:///policies-v7.sqlite\n",
      "   sqlite:///policies-v8.sqlite\n",
      "   sqlite:///policies-v9.sqlite\n",
      "1 rows affected.\n"
     ]
    },
    {
     "data": {
      "text/plain": [
       "[]"
      ]
     },
     "execution_count": 283,
     "metadata": {},
     "output_type": "execute_result"
    }
   ],
   "source": [
    "%%sql\n",
    "INSERT INTO Reports (damage_cost, location, date, driver_license, other_driver_license)\n",
    "VALUES (\n",
    "    500,\n",
    "    'Riverside, CA',\n",
    "    '2021-12-22',\n",
    "    'JJFDC3L9W',\n",
    "    'H1D1YCFQX'\n",
    ")"
   ]
  },
  {
   "cell_type": "code",
   "execution_count": 290,
   "metadata": {},
   "outputs": [
    {
     "name": "stdout",
     "output_type": "stream",
     "text": [
      "   sqlite:///policies-v10.sqlite\n",
      "   sqlite:///policies-v11.sqlite\n",
      " * sqlite:///policies-v12.sqlite\n",
      "   sqlite:///policies-v2.sqlite\n",
      "   sqlite:///policies-v4.sqlite\n",
      "   sqlite:///policies-v5.sqlite\n",
      "   sqlite:///policies-v6.sqlite\n",
      "   sqlite:///policies-v7.sqlite\n",
      "   sqlite:///policies-v8.sqlite\n",
      "   sqlite:///policies-v9.sqlite\n",
      "1 rows affected.\n"
     ]
    },
    {
     "data": {
      "text/plain": [
       "[]"
      ]
     },
     "execution_count": 290,
     "metadata": {},
     "output_type": "execute_result"
    }
   ],
   "source": [
    "%%sql\n",
    "INSERT INTO Reports (damage_cost, location, date, driver_license, other_driver_license)\n",
    "VALUES (\n",
    "    500,\n",
    "    'Riverside, CA',\n",
    "    '2021-12-22',\n",
    "    'H1D1YCFQX',\n",
    "    'JJFDC3L9W'\n",
    ")"
   ]
  },
  {
   "cell_type": "code",
   "execution_count": 284,
   "metadata": {},
   "outputs": [
    {
     "name": "stdout",
     "output_type": "stream",
     "text": [
      "   sqlite:///policies-v10.sqlite\n",
      "   sqlite:///policies-v11.sqlite\n",
      " * sqlite:///policies-v12.sqlite\n",
      "   sqlite:///policies-v2.sqlite\n",
      "   sqlite:///policies-v4.sqlite\n",
      "   sqlite:///policies-v5.sqlite\n",
      "   sqlite:///policies-v6.sqlite\n",
      "   sqlite:///policies-v7.sqlite\n",
      "   sqlite:///policies-v8.sqlite\n",
      "   sqlite:///policies-v9.sqlite\n",
      "1 rows affected.\n"
     ]
    },
    {
     "data": {
      "text/plain": [
       "[]"
      ]
     },
     "execution_count": 284,
     "metadata": {},
     "output_type": "execute_result"
    }
   ],
   "source": [
    "%%sql\n",
    "INSERT INTO Reports (damage_cost, location, date, driver_license, other_driver_license)\n",
    "VALUES (\n",
    "    900,\n",
    "    'Riverside, CA',\n",
    "    '2021-12-31',\n",
    "    'JJFDC3L9W',\n",
    "    'H1D1YCFQX'\n",
    ")"
   ]
  },
  {
   "cell_type": "code",
   "execution_count": 291,
   "metadata": {},
   "outputs": [
    {
     "name": "stdout",
     "output_type": "stream",
     "text": [
      "   sqlite:///policies-v10.sqlite\n",
      "   sqlite:///policies-v11.sqlite\n",
      " * sqlite:///policies-v12.sqlite\n",
      "   sqlite:///policies-v2.sqlite\n",
      "   sqlite:///policies-v4.sqlite\n",
      "   sqlite:///policies-v5.sqlite\n",
      "   sqlite:///policies-v6.sqlite\n",
      "   sqlite:///policies-v7.sqlite\n",
      "   sqlite:///policies-v8.sqlite\n",
      "   sqlite:///policies-v9.sqlite\n",
      "1 rows affected.\n"
     ]
    },
    {
     "data": {
      "text/plain": [
       "[]"
      ]
     },
     "execution_count": 291,
     "metadata": {},
     "output_type": "execute_result"
    }
   ],
   "source": [
    "%%sql\n",
    "INSERT INTO Reports (damage_cost, location, date, driver_license, other_driver_license)\n",
    "VALUES (\n",
    "    900,\n",
    "    'Riverside, CA',\n",
    "    '2021-12-31',\n",
    "    'H1D1YCFQX',\n",
    "    'JJFDC3L9W'\n",
    ")"
   ]
  },
  {
   "cell_type": "code",
   "execution_count": 285,
   "metadata": {},
   "outputs": [
    {
     "name": "stdout",
     "output_type": "stream",
     "text": [
      "   sqlite:///policies-v10.sqlite\n",
      "   sqlite:///policies-v11.sqlite\n",
      " * sqlite:///policies-v12.sqlite\n",
      "   sqlite:///policies-v2.sqlite\n",
      "   sqlite:///policies-v4.sqlite\n",
      "   sqlite:///policies-v5.sqlite\n",
      "   sqlite:///policies-v6.sqlite\n",
      "   sqlite:///policies-v7.sqlite\n",
      "   sqlite:///policies-v8.sqlite\n",
      "   sqlite:///policies-v9.sqlite\n",
      "1 rows affected.\n"
     ]
    },
    {
     "data": {
      "text/plain": [
       "[]"
      ]
     },
     "execution_count": 285,
     "metadata": {},
     "output_type": "execute_result"
    }
   ],
   "source": [
    "%%sql\n",
    "INSERT INTO Reports (damage_cost, location, date, driver_license, other_driver_license)\n",
    "VALUES (\n",
    "    1200,\n",
    "    'Corona, CA',\n",
    "    '2022-02-02',\n",
    "    'JJFDC3L9W',\n",
    "    'H1D1YCFQX'\n",
    ")"
   ]
  },
  {
   "cell_type": "code",
   "execution_count": 292,
   "metadata": {},
   "outputs": [
    {
     "name": "stdout",
     "output_type": "stream",
     "text": [
      "   sqlite:///policies-v10.sqlite\n",
      "   sqlite:///policies-v11.sqlite\n",
      " * sqlite:///policies-v12.sqlite\n",
      "   sqlite:///policies-v2.sqlite\n",
      "   sqlite:///policies-v4.sqlite\n",
      "   sqlite:///policies-v5.sqlite\n",
      "   sqlite:///policies-v6.sqlite\n",
      "   sqlite:///policies-v7.sqlite\n",
      "   sqlite:///policies-v8.sqlite\n",
      "   sqlite:///policies-v9.sqlite\n",
      "1 rows affected.\n"
     ]
    },
    {
     "data": {
      "text/plain": [
       "[]"
      ]
     },
     "execution_count": 292,
     "metadata": {},
     "output_type": "execute_result"
    }
   ],
   "source": [
    "%%sql\n",
    "INSERT INTO Reports (damage_cost, location, date, driver_license, other_driver_license)\n",
    "VALUES (\n",
    "    1200,\n",
    "    'Corona, CA',\n",
    "    '2022-02-02',\n",
    "    'H1D1YCFQX',\n",
    "    'JJFDC3L9W'\n",
    ")"
   ]
  },
  {
   "cell_type": "code",
   "execution_count": 286,
   "metadata": {},
   "outputs": [
    {
     "name": "stdout",
     "output_type": "stream",
     "text": [
      "   sqlite:///policies-v10.sqlite\n",
      "   sqlite:///policies-v11.sqlite\n",
      " * sqlite:///policies-v12.sqlite\n",
      "   sqlite:///policies-v2.sqlite\n",
      "   sqlite:///policies-v4.sqlite\n",
      "   sqlite:///policies-v5.sqlite\n",
      "   sqlite:///policies-v6.sqlite\n",
      "   sqlite:///policies-v7.sqlite\n",
      "   sqlite:///policies-v8.sqlite\n",
      "   sqlite:///policies-v9.sqlite\n",
      "1 rows affected.\n"
     ]
    },
    {
     "data": {
      "text/plain": [
       "[]"
      ]
     },
     "execution_count": 286,
     "metadata": {},
     "output_type": "execute_result"
    }
   ],
   "source": [
    "%%sql\n",
    "INSERT INTO Reports (damage_cost, location, date, driver_license, other_driver_license)\n",
    "VALUES (\n",
    "    600,\n",
    "    'Palm Springs, CA',\n",
    "    '2022-03-23',\n",
    "    'JJFDC3L9W',\n",
    "    'H1D1YCFQX'\n",
    ")"
   ]
  },
  {
   "cell_type": "code",
   "execution_count": 293,
   "metadata": {},
   "outputs": [
    {
     "name": "stdout",
     "output_type": "stream",
     "text": [
      "   sqlite:///policies-v10.sqlite\n",
      "   sqlite:///policies-v11.sqlite\n",
      " * sqlite:///policies-v12.sqlite\n",
      "   sqlite:///policies-v2.sqlite\n",
      "   sqlite:///policies-v4.sqlite\n",
      "   sqlite:///policies-v5.sqlite\n",
      "   sqlite:///policies-v6.sqlite\n",
      "   sqlite:///policies-v7.sqlite\n",
      "   sqlite:///policies-v8.sqlite\n",
      "   sqlite:///policies-v9.sqlite\n",
      "1 rows affected.\n"
     ]
    },
    {
     "data": {
      "text/plain": [
       "[]"
      ]
     },
     "execution_count": 293,
     "metadata": {},
     "output_type": "execute_result"
    }
   ],
   "source": [
    "%%sql\n",
    "INSERT INTO Reports (damage_cost, location, date, driver_license, other_driver_license)\n",
    "VALUES (\n",
    "    600,\n",
    "    'Palm Springs, CA',\n",
    "    '2022-03-23',\n",
    "    'H1D1YCFQX',\n",
    "    'JJFDC3L9W'\n",
    ")"
   ]
  },
  {
   "cell_type": "code",
   "execution_count": 287,
   "metadata": {},
   "outputs": [
    {
     "name": "stdout",
     "output_type": "stream",
     "text": [
      "   sqlite:///policies-v10.sqlite\n",
      "   sqlite:///policies-v11.sqlite\n",
      " * sqlite:///policies-v12.sqlite\n",
      "   sqlite:///policies-v2.sqlite\n",
      "   sqlite:///policies-v4.sqlite\n",
      "   sqlite:///policies-v5.sqlite\n",
      "   sqlite:///policies-v6.sqlite\n",
      "   sqlite:///policies-v7.sqlite\n",
      "   sqlite:///policies-v8.sqlite\n",
      "   sqlite:///policies-v9.sqlite\n",
      "1 rows affected.\n"
     ]
    },
    {
     "data": {
      "text/plain": [
       "[]"
      ]
     },
     "execution_count": 287,
     "metadata": {},
     "output_type": "execute_result"
    }
   ],
   "source": [
    "%%sql\n",
    "INSERT INTO Reports (damage_cost, location, date, driver_license, other_driver_license)\n",
    "VALUES (\n",
    "    750,\n",
    "    'Los Angeles, CA',\n",
    "    '2022-03-27',\n",
    "    'H1D1YCFQX',\n",
    "    'JJFDC3L9W'\n",
    ")"
   ]
  },
  {
   "cell_type": "code",
   "execution_count": 294,
   "metadata": {},
   "outputs": [
    {
     "name": "stdout",
     "output_type": "stream",
     "text": [
      "   sqlite:///policies-v10.sqlite\n",
      "   sqlite:///policies-v11.sqlite\n",
      " * sqlite:///policies-v12.sqlite\n",
      "   sqlite:///policies-v2.sqlite\n",
      "   sqlite:///policies-v4.sqlite\n",
      "   sqlite:///policies-v5.sqlite\n",
      "   sqlite:///policies-v6.sqlite\n",
      "   sqlite:///policies-v7.sqlite\n",
      "   sqlite:///policies-v8.sqlite\n",
      "   sqlite:///policies-v9.sqlite\n",
      "1 rows affected.\n"
     ]
    },
    {
     "data": {
      "text/plain": [
       "[]"
      ]
     },
     "execution_count": 294,
     "metadata": {},
     "output_type": "execute_result"
    }
   ],
   "source": [
    "%%sql\n",
    "INSERT INTO Reports (damage_cost, location, date, driver_license, other_driver_license)\n",
    "VALUES (\n",
    "    750,\n",
    "    'Los Angeles, CA',\n",
    "    '2022-03-27',\n",
    "    'JJFDC3L9W',\n",
    "    'H1D1YCFQX'\n",
    ")"
   ]
  },
  {
   "cell_type": "code",
   "execution_count": 288,
   "metadata": {},
   "outputs": [
    {
     "name": "stdout",
     "output_type": "stream",
     "text": [
      "   sqlite:///policies-v10.sqlite\n",
      "   sqlite:///policies-v11.sqlite\n",
      " * sqlite:///policies-v12.sqlite\n",
      "   sqlite:///policies-v2.sqlite\n",
      "   sqlite:///policies-v4.sqlite\n",
      "   sqlite:///policies-v5.sqlite\n",
      "   sqlite:///policies-v6.sqlite\n",
      "   sqlite:///policies-v7.sqlite\n",
      "   sqlite:///policies-v8.sqlite\n",
      "   sqlite:///policies-v9.sqlite\n",
      "1 rows affected.\n"
     ]
    },
    {
     "data": {
      "text/plain": [
       "[]"
      ]
     },
     "execution_count": 288,
     "metadata": {},
     "output_type": "execute_result"
    }
   ],
   "source": [
    "%%sql\n",
    "INSERT INTO Reports (damage_cost, location, date, driver_license, other_driver_license)\n",
    "VALUES (\n",
    "    320,\n",
    "    'Pomona, CA',\n",
    "    '2022-04-08',\n",
    "    'QNGHZ3JDS',\n",
    "    'JJFDC3L9W'\n",
    ")"
   ]
  },
  {
   "cell_type": "code",
   "execution_count": 295,
   "metadata": {},
   "outputs": [
    {
     "name": "stdout",
     "output_type": "stream",
     "text": [
      "   sqlite:///policies-v10.sqlite\n",
      "   sqlite:///policies-v11.sqlite\n",
      " * sqlite:///policies-v12.sqlite\n",
      "   sqlite:///policies-v2.sqlite\n",
      "   sqlite:///policies-v4.sqlite\n",
      "   sqlite:///policies-v5.sqlite\n",
      "   sqlite:///policies-v6.sqlite\n",
      "   sqlite:///policies-v7.sqlite\n",
      "   sqlite:///policies-v8.sqlite\n",
      "   sqlite:///policies-v9.sqlite\n",
      "1 rows affected.\n"
     ]
    },
    {
     "data": {
      "text/plain": [
       "[]"
      ]
     },
     "execution_count": 295,
     "metadata": {},
     "output_type": "execute_result"
    }
   ],
   "source": [
    "%%sql\n",
    "INSERT INTO Reports (damage_cost, location, date, driver_license, other_driver_license)\n",
    "VALUES (\n",
    "    320,\n",
    "    'Pomona, CA',\n",
    "    '2022-04-08',\n",
    "    'JJFDC3L9W',\n",
    "    'QNGHZ3JDS'\n",
    ")"
   ]
  },
  {
   "cell_type": "code",
   "execution_count": 296,
   "metadata": {},
   "outputs": [
    {
     "name": "stdout",
     "output_type": "stream",
     "text": [
      "   sqlite:///policies-v10.sqlite\n",
      "   sqlite:///policies-v11.sqlite\n",
      " * sqlite:///policies-v12.sqlite\n",
      "   sqlite:///policies-v2.sqlite\n",
      "   sqlite:///policies-v4.sqlite\n",
      "   sqlite:///policies-v5.sqlite\n",
      "   sqlite:///policies-v6.sqlite\n",
      "   sqlite:///policies-v7.sqlite\n",
      "   sqlite:///policies-v8.sqlite\n",
      "   sqlite:///policies-v9.sqlite\n",
      "Done.\n"
     ]
    },
    {
     "data": {
      "text/html": [
       "<table>\n",
       "    <tr>\n",
       "        <th>report_number</th>\n",
       "        <th>damage_cost</th>\n",
       "        <th>location</th>\n",
       "        <th>date</th>\n",
       "        <th>driver_license</th>\n",
       "        <th>other_driver_license</th>\n",
       "    </tr>\n",
       "    <tr>\n",
       "        <td>1</td>\n",
       "        <td>500.0</td>\n",
       "        <td>Riverside, CA</td>\n",
       "        <td>2021-12-22</td>\n",
       "        <td>JJFDC3L9W</td>\n",
       "        <td>H1D1YCFQX</td>\n",
       "    </tr>\n",
       "    <tr>\n",
       "        <td>2</td>\n",
       "        <td>900.0</td>\n",
       "        <td>Riverside, CA</td>\n",
       "        <td>2021-12-31</td>\n",
       "        <td>JJFDC3L9W</td>\n",
       "        <td>H1D1YCFQX</td>\n",
       "    </tr>\n",
       "    <tr>\n",
       "        <td>3</td>\n",
       "        <td>1200.0</td>\n",
       "        <td>Corona, CA</td>\n",
       "        <td>2022-02-02</td>\n",
       "        <td>JJFDC3L9W</td>\n",
       "        <td>H1D1YCFQX</td>\n",
       "    </tr>\n",
       "    <tr>\n",
       "        <td>4</td>\n",
       "        <td>600.0</td>\n",
       "        <td>Palm Springs, CA</td>\n",
       "        <td>2022-03-23</td>\n",
       "        <td>JJFDC3L9W</td>\n",
       "        <td>H1D1YCFQX</td>\n",
       "    </tr>\n",
       "    <tr>\n",
       "        <td>5</td>\n",
       "        <td>750.0</td>\n",
       "        <td>Los Angeles, CA</td>\n",
       "        <td>2022-03-27</td>\n",
       "        <td>H1D1YCFQX</td>\n",
       "        <td>JJFDC3L9W</td>\n",
       "    </tr>\n",
       "    <tr>\n",
       "        <td>6</td>\n",
       "        <td>320.0</td>\n",
       "        <td>Pomona, CA</td>\n",
       "        <td>2022-04-08</td>\n",
       "        <td>QNGHZ3JDS</td>\n",
       "        <td>JJFDC3L9W</td>\n",
       "    </tr>\n",
       "    <tr>\n",
       "        <td>7</td>\n",
       "        <td>500.0</td>\n",
       "        <td>Riverside, CA</td>\n",
       "        <td>2021-12-22</td>\n",
       "        <td>H1D1YCFQX</td>\n",
       "        <td>JJFDC3L9W</td>\n",
       "    </tr>\n",
       "    <tr>\n",
       "        <td>8</td>\n",
       "        <td>900.0</td>\n",
       "        <td>Riverside, CA</td>\n",
       "        <td>2021-12-31</td>\n",
       "        <td>H1D1YCFQX</td>\n",
       "        <td>JJFDC3L9W</td>\n",
       "    </tr>\n",
       "    <tr>\n",
       "        <td>9</td>\n",
       "        <td>1200.0</td>\n",
       "        <td>Corona, CA</td>\n",
       "        <td>2022-02-02</td>\n",
       "        <td>H1D1YCFQX</td>\n",
       "        <td>JJFDC3L9W</td>\n",
       "    </tr>\n",
       "    <tr>\n",
       "        <td>10</td>\n",
       "        <td>600.0</td>\n",
       "        <td>Palm Springs, CA</td>\n",
       "        <td>2022-03-23</td>\n",
       "        <td>H1D1YCFQX</td>\n",
       "        <td>JJFDC3L9W</td>\n",
       "    </tr>\n",
       "    <tr>\n",
       "        <td>11</td>\n",
       "        <td>750.0</td>\n",
       "        <td>Los Angeles, CA</td>\n",
       "        <td>2022-03-27</td>\n",
       "        <td>JJFDC3L9W</td>\n",
       "        <td>H1D1YCFQX</td>\n",
       "    </tr>\n",
       "    <tr>\n",
       "        <td>12</td>\n",
       "        <td>320.0</td>\n",
       "        <td>Pomona, CA</td>\n",
       "        <td>2022-04-08</td>\n",
       "        <td>JJFDC3L9W</td>\n",
       "        <td>QNGHZ3JDS</td>\n",
       "    </tr>\n",
       "</table>"
      ],
      "text/plain": [
       "[(1, 500.0, 'Riverside, CA', '2021-12-22', 'JJFDC3L9W', 'H1D1YCFQX'),\n",
       " (2, 900.0, 'Riverside, CA', '2021-12-31', 'JJFDC3L9W', 'H1D1YCFQX'),\n",
       " (3, 1200.0, 'Corona, CA', '2022-02-02', 'JJFDC3L9W', 'H1D1YCFQX'),\n",
       " (4, 600.0, 'Palm Springs, CA', '2022-03-23', 'JJFDC3L9W', 'H1D1YCFQX'),\n",
       " (5, 750.0, 'Los Angeles, CA', '2022-03-27', 'H1D1YCFQX', 'JJFDC3L9W'),\n",
       " (6, 320.0, 'Pomona, CA', '2022-04-08', 'QNGHZ3JDS', 'JJFDC3L9W'),\n",
       " (7, 500.0, 'Riverside, CA', '2021-12-22', 'H1D1YCFQX', 'JJFDC3L9W'),\n",
       " (8, 900.0, 'Riverside, CA', '2021-12-31', 'H1D1YCFQX', 'JJFDC3L9W'),\n",
       " (9, 1200.0, 'Corona, CA', '2022-02-02', 'H1D1YCFQX', 'JJFDC3L9W'),\n",
       " (10, 600.0, 'Palm Springs, CA', '2022-03-23', 'H1D1YCFQX', 'JJFDC3L9W'),\n",
       " (11, 750.0, 'Los Angeles, CA', '2022-03-27', 'JJFDC3L9W', 'H1D1YCFQX'),\n",
       " (12, 320.0, 'Pomona, CA', '2022-04-08', 'JJFDC3L9W', 'QNGHZ3JDS')]"
      ]
     },
     "execution_count": 296,
     "metadata": {},
     "output_type": "execute_result"
    }
   ],
   "source": [
    "%%sql\n",
    "SELECT * FROM Reports"
   ]
  }
 ],
 "metadata": {
  "interpreter": {
   "hash": "916dbcbb3f70747c44a77c7bcd40155683ae19c65e1c03b4aa3499c5328201f1"
  },
  "kernelspec": {
   "display_name": "Python 3.8.10 64-bit",
   "language": "python",
   "name": "python3"
  },
  "language_info": {
   "codemirror_mode": {
    "name": "ipython",
    "version": 3
   },
   "file_extension": ".py",
   "mimetype": "text/x-python",
   "name": "python",
   "nbconvert_exporter": "python",
   "pygments_lexer": "ipython3",
   "version": "3.8.10"
  },
  "orig_nbformat": 4
 },
 "nbformat": 4,
 "nbformat_minor": 2
}
