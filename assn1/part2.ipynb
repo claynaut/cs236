{
 "cells": [
  {
   "cell_type": "markdown",
   "metadata": {},
   "source": [
    "# CS 236 Assignment 1: Part 2\n",
    "> Author: Jamella Pescasio (jpesc002)\n",
    "\n",
    "## Purpose\n",
    "Translating the ER diagram, created in `part1.pdf` into relational database tables.\n",
    "\n",
    "## Setup"
   ]
  },
  {
   "cell_type": "code",
   "execution_count": 111,
   "metadata": {},
   "outputs": [
    {
     "name": "stdout",
     "output_type": "stream",
     "text": [
      "The sql extension is already loaded. To reload it, use:\n",
      "  %reload_ext sql\n"
     ]
    }
   ],
   "source": [
    "# load extension (only needed once)\n",
    "%load_ext sql"
   ]
  },
  {
   "cell_type": "code",
   "execution_count": 112,
   "metadata": {},
   "outputs": [],
   "source": [
    "# initializes db and creates respective file in same directory\n",
    "%sql sqlite:///policies-v12.sqlite"
   ]
  },
  {
   "cell_type": "markdown",
   "metadata": {},
   "source": [
    "## Create Tables\n",
    "Code blocks below create relational database tables based on the ER diagram illustrated in `part1.pdf`."
   ]
  },
  {
   "cell_type": "code",
   "execution_count": 113,
   "metadata": {},
   "outputs": [
    {
     "name": "stdout",
     "output_type": "stream",
     "text": [
      "   sqlite:///policies-v10.sqlite\n",
      "   sqlite:///policies-v11.sqlite\n",
      " * sqlite:///policies-v12.sqlite\n",
      "   sqlite:///policies-v3.sqlite\n",
      "   sqlite:///policies-v4.sqlite\n",
      "   sqlite:///policies-v5.sqlite\n",
      "   sqlite:///policies-v6.sqlite\n",
      "   sqlite:///policies-v7.sqlite\n",
      "   sqlite:///policies-v8.sqlite\n",
      "   sqlite:///policies-v9.sqlite\n",
      "Done.\n"
     ]
    },
    {
     "data": {
      "text/plain": [
       "[]"
      ]
     },
     "execution_count": 113,
     "metadata": {},
     "output_type": "execute_result"
    }
   ],
   "source": [
    "%%sql\n",
    "CREATE TABLE IF NOT EXISTS Policies (\n",
    "\tpolicy_number \tINTEGER PRIMARY KEY AUTOINCREMENT,\n",
    "\tterm_price \t\tREAL,\n",
    "\tcoverage \t\tTEXT CHECK(coverage IN ('life', 'vehicle')),\n",
    "\tdate \t\t\tDATE\n",
    ")"
   ]
  },
  {
   "cell_type": "code",
   "execution_count": 114,
   "metadata": {},
   "outputs": [
    {
     "name": "stdout",
     "output_type": "stream",
     "text": [
      "   sqlite:///policies-v10.sqlite\n",
      "   sqlite:///policies-v11.sqlite\n",
      " * sqlite:///policies-v12.sqlite\n",
      "   sqlite:///policies-v3.sqlite\n",
      "   sqlite:///policies-v4.sqlite\n",
      "   sqlite:///policies-v5.sqlite\n",
      "   sqlite:///policies-v6.sqlite\n",
      "   sqlite:///policies-v7.sqlite\n",
      "   sqlite:///policies-v8.sqlite\n",
      "   sqlite:///policies-v9.sqlite\n",
      "Done.\n"
     ]
    },
    {
     "data": {
      "text/plain": [
       "[]"
      ]
     },
     "execution_count": 114,
     "metadata": {},
     "output_type": "execute_result"
    }
   ],
   "source": [
    "%%sql\n",
    "CREATE TABLE IF NOT EXISTS VehiclePolicies (\n",
    "\tid \t\t\t\tINTEGER PRIMARY KEY AUTOINCREMENT,\n",
    "\ttype \t\t\tTEXT CHECK(type IN ('new', 'old')),\n",
    "\tdriving_history TEXT[],\n",
    "\tpolicy_number \tINTEGER REFERENCES Policies(policy_number),\n",
    "\tvehicle_VIN \tTEXT UNIQUE REFERENCES Vehicles(vehicle_VIN)\n",
    ")"
   ]
  },
  {
   "cell_type": "code",
   "execution_count": 115,
   "metadata": {},
   "outputs": [
    {
     "name": "stdout",
     "output_type": "stream",
     "text": [
      "   sqlite:///policies-v10.sqlite\n",
      "   sqlite:///policies-v11.sqlite\n",
      " * sqlite:///policies-v12.sqlite\n",
      "   sqlite:///policies-v3.sqlite\n",
      "   sqlite:///policies-v4.sqlite\n",
      "   sqlite:///policies-v5.sqlite\n",
      "   sqlite:///policies-v6.sqlite\n",
      "   sqlite:///policies-v7.sqlite\n",
      "   sqlite:///policies-v8.sqlite\n",
      "   sqlite:///policies-v9.sqlite\n",
      "Done.\n"
     ]
    },
    {
     "data": {
      "text/plain": [
       "[]"
      ]
     },
     "execution_count": 115,
     "metadata": {},
     "output_type": "execute_result"
    }
   ],
   "source": [
    "%%sql\n",
    "CREATE TABLE IF NOT EXISTS LifePolicies (\n",
    "\tid \t\t\t\tINTEGER PRIMARY KEY AUTOINCREMENT,\n",
    "\tvalue \t\t\tINTEGER,\n",
    "\tmin_age \t\tINTEGER,\n",
    "\tmax_age\t\t\tINTEGER,\n",
    "\tpolicy_number \tINTEGER REFERENCES Policies(policy_number)\n",
    ")"
   ]
  },
  {
   "cell_type": "code",
   "execution_count": 116,
   "metadata": {},
   "outputs": [
    {
     "name": "stdout",
     "output_type": "stream",
     "text": [
      "   sqlite:///policies-v10.sqlite\n",
      "   sqlite:///policies-v11.sqlite\n",
      " * sqlite:///policies-v12.sqlite\n",
      "   sqlite:///policies-v3.sqlite\n",
      "   sqlite:///policies-v4.sqlite\n",
      "   sqlite:///policies-v5.sqlite\n",
      "   sqlite:///policies-v6.sqlite\n",
      "   sqlite:///policies-v7.sqlite\n",
      "   sqlite:///policies-v8.sqlite\n",
      "   sqlite:///policies-v9.sqlite\n",
      "Done.\n"
     ]
    },
    {
     "data": {
      "text/plain": [
       "[]"
      ]
     },
     "execution_count": 116,
     "metadata": {},
     "output_type": "execute_result"
    }
   ],
   "source": [
    "%%sql\n",
    "CREATE TABLE IF NOT EXISTS Vehicles (\n",
    "\tvehicle_VIN \t\tTEXT UNIQUE PRIMARY KEY,\n",
    "\tplate \t\t\t\tTEXT,\n",
    "\tregistered_state \tTEXT,\n",
    "\tcolor \t\t\t\tTEXT,\n",
    "\tyear \t\t\t\tINTEGER,\n",
    "\tmodel \t\t\t\tTEXT\n",
    ")"
   ]
  },
  {
   "cell_type": "code",
   "execution_count": 117,
   "metadata": {},
   "outputs": [
    {
     "name": "stdout",
     "output_type": "stream",
     "text": [
      "   sqlite:///policies-v10.sqlite\n",
      "   sqlite:///policies-v11.sqlite\n",
      " * sqlite:///policies-v12.sqlite\n",
      "   sqlite:///policies-v3.sqlite\n",
      "   sqlite:///policies-v4.sqlite\n",
      "   sqlite:///policies-v5.sqlite\n",
      "   sqlite:///policies-v6.sqlite\n",
      "   sqlite:///policies-v7.sqlite\n",
      "   sqlite:///policies-v8.sqlite\n",
      "   sqlite:///policies-v9.sqlite\n",
      "Done.\n"
     ]
    },
    {
     "data": {
      "text/plain": [
       "[]"
      ]
     },
     "execution_count": 117,
     "metadata": {},
     "output_type": "execute_result"
    }
   ],
   "source": [
    "%%sql\n",
    "CREATE TABLE IF NOT EXISTS Cars (\n",
    "\tcar_type \t\t\tTEXT,\n",
    "\ttransmission_type \tTEXT CHECK(transmission_type IN ('automatic', 'manual')),\n",
    "\tsize \t\t\t\tTEXT,\n",
    "\tvehicle_VIN \t\tTEXT UNIQUE REFERENCES Vehicles(vehicle_VIN)\n",
    ")"
   ]
  },
  {
   "cell_type": "code",
   "execution_count": 118,
   "metadata": {},
   "outputs": [
    {
     "name": "stdout",
     "output_type": "stream",
     "text": [
      "   sqlite:///policies-v10.sqlite\n",
      "   sqlite:///policies-v11.sqlite\n",
      " * sqlite:///policies-v12.sqlite\n",
      "   sqlite:///policies-v3.sqlite\n",
      "   sqlite:///policies-v4.sqlite\n",
      "   sqlite:///policies-v5.sqlite\n",
      "   sqlite:///policies-v6.sqlite\n",
      "   sqlite:///policies-v7.sqlite\n",
      "   sqlite:///policies-v8.sqlite\n",
      "   sqlite:///policies-v9.sqlite\n",
      "Done.\n"
     ]
    },
    {
     "data": {
      "text/plain": [
       "[]"
      ]
     },
     "execution_count": 118,
     "metadata": {},
     "output_type": "execute_result"
    }
   ],
   "source": [
    "%%sql\n",
    "CREATE TABLE IF NOT EXISTS Motorcycles (\n",
    "\tweight \t\t\tREAL,\n",
    "\ttype \t\t\tTEXT,\n",
    "\tvehicle_VIN \tTEXT UNIQUE REFERENCES Vehicles(vehicle_VIN)\n",
    ")"
   ]
  },
  {
   "cell_type": "code",
   "execution_count": 119,
   "metadata": {},
   "outputs": [
    {
     "name": "stdout",
     "output_type": "stream",
     "text": [
      "   sqlite:///policies-v10.sqlite\n",
      "   sqlite:///policies-v11.sqlite\n",
      " * sqlite:///policies-v12.sqlite\n",
      "   sqlite:///policies-v3.sqlite\n",
      "   sqlite:///policies-v4.sqlite\n",
      "   sqlite:///policies-v5.sqlite\n",
      "   sqlite:///policies-v6.sqlite\n",
      "   sqlite:///policies-v7.sqlite\n",
      "   sqlite:///policies-v8.sqlite\n",
      "   sqlite:///policies-v9.sqlite\n",
      "Done.\n"
     ]
    },
    {
     "data": {
      "text/plain": [
       "[]"
      ]
     },
     "execution_count": 119,
     "metadata": {},
     "output_type": "execute_result"
    }
   ],
   "source": [
    "%%sql\n",
    "CREATE TABLE IF NOT EXISTS Customers (\n",
    "\tssn \t\t\tINTEGER,\n",
    "\tdriver_license \tTEXT,\n",
    "\tname \t\t\tTEXT,\n",
    "\ttelephone\t\tTEXT,\n",
    "\taddress\t\t\tTEXT,\n",
    "\tpolicy_number \tINTEGER REFERENCES Policies(policy_number)\n",
    ")"
   ]
  },
  {
   "cell_type": "code",
   "execution_count": 120,
   "metadata": {},
   "outputs": [
    {
     "name": "stdout",
     "output_type": "stream",
     "text": [
      "   sqlite:///policies-v10.sqlite\n",
      "   sqlite:///policies-v11.sqlite\n",
      " * sqlite:///policies-v12.sqlite\n",
      "   sqlite:///policies-v3.sqlite\n",
      "   sqlite:///policies-v4.sqlite\n",
      "   sqlite:///policies-v5.sqlite\n",
      "   sqlite:///policies-v6.sqlite\n",
      "   sqlite:///policies-v7.sqlite\n",
      "   sqlite:///policies-v8.sqlite\n",
      "   sqlite:///policies-v9.sqlite\n",
      "Done.\n"
     ]
    },
    {
     "data": {
      "text/plain": [
       "[]"
      ]
     },
     "execution_count": 120,
     "metadata": {},
     "output_type": "execute_result"
    }
   ],
   "source": [
    "%%sql\n",
    "CREATE TABLE IF NOT EXISTS Dependents (\n",
    "\tssn \t\t\tINTEGER,\n",
    "\tdriver_license \tTEXT,\n",
    "\tname \t\t\tTEXT,\n",
    "\tparent_ssn \t\tINTEGER REFERENCES Customers(ssn)\n",
    ")"
   ]
  },
  {
   "cell_type": "code",
   "execution_count": 121,
   "metadata": {},
   "outputs": [
    {
     "name": "stdout",
     "output_type": "stream",
     "text": [
      "   sqlite:///policies-v10.sqlite\n",
      "   sqlite:///policies-v11.sqlite\n",
      " * sqlite:///policies-v12.sqlite\n",
      "   sqlite:///policies-v3.sqlite\n",
      "   sqlite:///policies-v4.sqlite\n",
      "   sqlite:///policies-v5.sqlite\n",
      "   sqlite:///policies-v6.sqlite\n",
      "   sqlite:///policies-v7.sqlite\n",
      "   sqlite:///policies-v8.sqlite\n",
      "   sqlite:///policies-v9.sqlite\n",
      "Done.\n"
     ]
    },
    {
     "data": {
      "text/plain": [
       "[]"
      ]
     },
     "execution_count": 121,
     "metadata": {},
     "output_type": "execute_result"
    }
   ],
   "source": [
    "%%sql\n",
    "CREATE TABLE IF NOT EXISTS Reports (\n",
    "\treport_number \t\t\tINTEGER PRIMARY KEY AUTOINCREMENT,\n",
    "\tdamage_cost \t\t\tREAL,\n",
    "\tlocation \t\t\t\tTEXT,\n",
    "\tdate \t\t\t\t\tDATE,\n",
    "\tdriver_license \t\t\tTEXT REFERENCES Customers(driver_license),\n",
    "\tother_driver_license \tTEXT REFERENCES Customers(driver_license)\n",
    ")"
   ]
  },
  {
   "cell_type": "code",
   "execution_count": 122,
   "metadata": {},
   "outputs": [
    {
     "name": "stdout",
     "output_type": "stream",
     "text": [
      "   sqlite:///policies-v10.sqlite\n",
      "   sqlite:///policies-v11.sqlite\n",
      " * sqlite:///policies-v12.sqlite\n",
      "   sqlite:///policies-v3.sqlite\n",
      "   sqlite:///policies-v4.sqlite\n",
      "   sqlite:///policies-v5.sqlite\n",
      "   sqlite:///policies-v6.sqlite\n",
      "   sqlite:///policies-v7.sqlite\n",
      "   sqlite:///policies-v8.sqlite\n",
      "   sqlite:///policies-v9.sqlite\n",
      "Done.\n"
     ]
    },
    {
     "data": {
      "text/plain": [
       "[]"
      ]
     },
     "execution_count": 122,
     "metadata": {},
     "output_type": "execute_result"
    }
   ],
   "source": [
    "%%sql\n",
    "CREATE TABLE IF NOT EXISTS Payments (\n",
    "\tid \t\t\t\tINTEGER PRIMARY KEY AUTOINCREMENT,\n",
    "\tpayment_amount \tREAL,\n",
    "\tdue_date \t\tDATE,\n",
    "\tpolicy_number \tINTEGER REFERENCES Policies(policy_number)\n",
    ")"
   ]
  }
 ],
 "metadata": {
  "interpreter": {
   "hash": "916dbcbb3f70747c44a77c7bcd40155683ae19c65e1c03b4aa3499c5328201f1"
  },
  "kernelspec": {
   "display_name": "Python 3.8.10 64-bit",
   "language": "python",
   "name": "python3"
  },
  "language_info": {
   "codemirror_mode": {
    "name": "ipython",
    "version": 3
   },
   "file_extension": ".py",
   "mimetype": "text/x-python",
   "name": "python",
   "nbconvert_exporter": "python",
   "pygments_lexer": "ipython3",
   "version": "3.8.10"
  },
  "orig_nbformat": 4
 },
 "nbformat": 4,
 "nbformat_minor": 2
}
