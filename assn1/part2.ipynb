{
 "cells": [
  {
   "cell_type": "markdown",
   "metadata": {},
   "source": [
    "# CS 236 Assignment 1: Part 2\n",
    "> Author: Jamella Pescasio (jpesc002)\n",
    "\n",
    "## Purpose\n",
    "Translating the ER diagram, created in `part1.pdf` into relational database tables.\n",
    "\n",
    "## Setup"
   ]
  },
  {
   "cell_type": "code",
   "execution_count": 51,
   "metadata": {},
   "outputs": [
    {
     "name": "stdout",
     "output_type": "stream",
     "text": [
      "The sql extension is already loaded. To reload it, use:\n",
      "  %reload_ext sql\n"
     ]
    }
   ],
   "source": [
    "# load extension (only needed once)\n",
    "%load_ext sql"
   ]
  },
  {
   "cell_type": "code",
   "execution_count": 52,
   "metadata": {},
   "outputs": [],
   "source": [
    "# initializes db and creates respective file in same directory\n",
    "%sql sqlite:///policies-v2.sqlite"
   ]
  },
  {
   "cell_type": "markdown",
   "metadata": {},
   "source": [
    "## Create Tables\n",
    "Code blocks below create relational database tables based on the ER diagram illustrated in `part1.pdf`."
   ]
  },
  {
   "cell_type": "code",
   "execution_count": 53,
   "metadata": {},
   "outputs": [
    {
     "name": "stdout",
     "output_type": "stream",
     "text": [
      "   sqlite:///foo.sqlite\n",
      "   sqlite:///policies-v1.sqlite\n",
      " * sqlite:///policies-v2.sqlite\n",
      "   sqlite:///policies.sqlite\n",
      "Done.\n"
     ]
    },
    {
     "data": {
      "text/plain": [
       "[]"
      ]
     },
     "execution_count": 53,
     "metadata": {},
     "output_type": "execute_result"
    }
   ],
   "source": [
    "%%sql\n",
    "CREATE TABLE IF NOT EXISTS Policies (\n",
    "\tpolicy_number INTEGER PRIMARY KEY AUTOINCREMENT,\n",
    "\tterm_price REAL,\n",
    "\tcoverage TEXT,\n",
    "\tdate DATE\n",
    ")"
   ]
  },
  {
   "cell_type": "code",
   "execution_count": 54,
   "metadata": {},
   "outputs": [
    {
     "name": "stdout",
     "output_type": "stream",
     "text": [
      "   sqlite:///foo.sqlite\n",
      "   sqlite:///policies-v1.sqlite\n",
      " * sqlite:///policies-v2.sqlite\n",
      "   sqlite:///policies.sqlite\n",
      "Done.\n"
     ]
    },
    {
     "data": {
      "text/plain": [
       "[]"
      ]
     },
     "execution_count": 54,
     "metadata": {},
     "output_type": "execute_result"
    }
   ],
   "source": [
    "%%sql\n",
    "CREATE TABLE IF NOT EXISTS VehiclePolicies (\n",
    "\tid INTEGER PRIMARY KEY AUTOINCREMENT,\n",
    "\ttype TEXT,\n",
    "\tdriving_history BLOB,\n",
    "\tpolicy_number REFERENCES Policies(policy_number),\n",
    "\tvehicle_VIN REFERENCES VehiclePolicies(vehicle_VIN)\n",
    ")"
   ]
  },
  {
   "cell_type": "code",
   "execution_count": 55,
   "metadata": {},
   "outputs": [
    {
     "name": "stdout",
     "output_type": "stream",
     "text": [
      "   sqlite:///foo.sqlite\n",
      "   sqlite:///policies-v1.sqlite\n",
      " * sqlite:///policies-v2.sqlite\n",
      "   sqlite:///policies.sqlite\n",
      "Done.\n"
     ]
    },
    {
     "data": {
      "text/plain": [
       "[]"
      ]
     },
     "execution_count": 55,
     "metadata": {},
     "output_type": "execute_result"
    }
   ],
   "source": [
    "%%sql\n",
    "CREATE TABLE IF NOT EXISTS LifePolicies (\n",
    "\tid INTEGER PRIMARY KEY AUTOINCREMENT,\n",
    "\tvalue INTEGER,\n",
    "\tmin_age INTEGER,\n",
    "\tmax_age INTEGER,\n",
    "\tpolicy_number REFERENCES Policies(policy_number)\n",
    ")"
   ]
  },
  {
   "cell_type": "code",
   "execution_count": 56,
   "metadata": {},
   "outputs": [
    {
     "name": "stdout",
     "output_type": "stream",
     "text": [
      "   sqlite:///foo.sqlite\n",
      "   sqlite:///policies-v1.sqlite\n",
      " * sqlite:///policies-v2.sqlite\n",
      "   sqlite:///policies.sqlite\n",
      "Done.\n"
     ]
    },
    {
     "data": {
      "text/plain": [
       "[]"
      ]
     },
     "execution_count": 56,
     "metadata": {},
     "output_type": "execute_result"
    }
   ],
   "source": [
    "%%sql\n",
    "CREATE TABLE IF NOT EXISTS Vehicles (\n",
    "\tvehicle_VIN TEXT UNIQUE PRIMARY KEY,\n",
    "\tplate TEXT,\n",
    "\tregistered_state TEXT,\n",
    "\tcolor TEXT,\n",
    "\tyear INTEGER,\n",
    "\tmodel TEXT\n",
    ")"
   ]
  },
  {
   "cell_type": "code",
   "execution_count": 57,
   "metadata": {},
   "outputs": [
    {
     "name": "stdout",
     "output_type": "stream",
     "text": [
      "   sqlite:///foo.sqlite\n",
      "   sqlite:///policies-v1.sqlite\n",
      " * sqlite:///policies-v2.sqlite\n",
      "   sqlite:///policies.sqlite\n",
      "Done.\n"
     ]
    },
    {
     "data": {
      "text/plain": [
       "[]"
      ]
     },
     "execution_count": 57,
     "metadata": {},
     "output_type": "execute_result"
    }
   ],
   "source": [
    "%%sql\n",
    "CREATE TABLE IF NOT EXISTS Cars (\n",
    "\tcar_type TEXT,\n",
    "\ttransmission_type TEXT,\n",
    "\tsize TEXT,\n",
    "\tvehicle_VIN REFERENCES Vehicles(vehicle_VIN)\n",
    ")"
   ]
  },
  {
   "cell_type": "code",
   "execution_count": 58,
   "metadata": {},
   "outputs": [
    {
     "name": "stdout",
     "output_type": "stream",
     "text": [
      "   sqlite:///foo.sqlite\n",
      "   sqlite:///policies-v1.sqlite\n",
      " * sqlite:///policies-v2.sqlite\n",
      "   sqlite:///policies.sqlite\n",
      "Done.\n"
     ]
    },
    {
     "data": {
      "text/plain": [
       "[]"
      ]
     },
     "execution_count": 58,
     "metadata": {},
     "output_type": "execute_result"
    }
   ],
   "source": [
    "%%sql\n",
    "CREATE TABLE IF NOT EXISTS Motorcycles (\n",
    "\tweight REAL,\n",
    "\ttype TEXT,\n",
    "\tvehicle_VIN REFERENCES Vehicles(vehicle_VIN)\n",
    ")"
   ]
  },
  {
   "cell_type": "code",
   "execution_count": 59,
   "metadata": {},
   "outputs": [
    {
     "name": "stdout",
     "output_type": "stream",
     "text": [
      "   sqlite:///foo.sqlite\n",
      "   sqlite:///policies-v1.sqlite\n",
      " * sqlite:///policies-v2.sqlite\n",
      "   sqlite:///policies.sqlite\n",
      "Done.\n"
     ]
    },
    {
     "data": {
      "text/plain": [
       "[]"
      ]
     },
     "execution_count": 59,
     "metadata": {},
     "output_type": "execute_result"
    }
   ],
   "source": [
    "%%sql\n",
    "CREATE TABLE IF NOT EXISTS Customers (\n",
    "\tssn INTEGER UNIQUE PRIMARY KEY,\n",
    "\tdriver_license TEXT,\n",
    "\tname TEXT,\n",
    "\ttelephone address TEXT,\n",
    "\tpolicy_number REFERENCES Policies(policy_number)\n",
    ")"
   ]
  },
  {
   "cell_type": "code",
   "execution_count": 60,
   "metadata": {},
   "outputs": [
    {
     "name": "stdout",
     "output_type": "stream",
     "text": [
      "   sqlite:///foo.sqlite\n",
      "   sqlite:///policies-v1.sqlite\n",
      " * sqlite:///policies-v2.sqlite\n",
      "   sqlite:///policies.sqlite\n",
      "Done.\n"
     ]
    },
    {
     "data": {
      "text/plain": [
       "[]"
      ]
     },
     "execution_count": 60,
     "metadata": {},
     "output_type": "execute_result"
    }
   ],
   "source": [
    "%%sql\n",
    "CREATE TABLE IF NOT EXISTS Dependents (\n",
    "\tssn INTEGER UNIQUE PRIMARY KEY,\n",
    "\tdriver_license TEXT,\n",
    "\tname TEXT,\n",
    "\tparent_ssn REFERENCES Customers(ssn)\n",
    ")"
   ]
  },
  {
   "cell_type": "code",
   "execution_count": 61,
   "metadata": {},
   "outputs": [
    {
     "name": "stdout",
     "output_type": "stream",
     "text": [
      "   sqlite:///foo.sqlite\n",
      "   sqlite:///policies-v1.sqlite\n",
      " * sqlite:///policies-v2.sqlite\n",
      "   sqlite:///policies.sqlite\n",
      "Done.\n"
     ]
    },
    {
     "data": {
      "text/plain": [
       "[]"
      ]
     },
     "execution_count": 61,
     "metadata": {},
     "output_type": "execute_result"
    }
   ],
   "source": [
    "%%sql\n",
    "CREATE TABLE IF NOT EXISTS Reports (\n",
    "\treport_number INTEGER PRIMARY KEY AUTOINCREMENT,\n",
    "\tdamage_cost REAL,\n",
    "\tlocation TEXT,\n",
    "\tdate DATE,\n",
    "\tdriver_license REFERENCES Customers(driver_license)\n",
    ")"
   ]
  },
  {
   "cell_type": "code",
   "execution_count": 62,
   "metadata": {},
   "outputs": [
    {
     "name": "stdout",
     "output_type": "stream",
     "text": [
      "   sqlite:///foo.sqlite\n",
      "   sqlite:///policies-v1.sqlite\n",
      " * sqlite:///policies-v2.sqlite\n",
      "   sqlite:///policies.sqlite\n",
      "Done.\n"
     ]
    },
    {
     "data": {
      "text/plain": [
       "[]"
      ]
     },
     "execution_count": 62,
     "metadata": {},
     "output_type": "execute_result"
    }
   ],
   "source": [
    "%%sql\n",
    "CREATE TABLE IF NOT EXISTS Payments (\n",
    "\tid INTEGER PRIMARY KEY AUTOINCREMENT,\n",
    "\tpayment_amount REAL,\n",
    "\tdue_date DATE,\n",
    "\tpolicy_number REFERENCES Policies(policy_number)\n",
    ")"
   ]
  }
 ],
 "metadata": {
  "interpreter": {
   "hash": "916dbcbb3f70747c44a77c7bcd40155683ae19c65e1c03b4aa3499c5328201f1"
  },
  "kernelspec": {
   "display_name": "Python 3.8.10 64-bit",
   "language": "python",
   "name": "python3"
  },
  "language_info": {
   "codemirror_mode": {
    "name": "ipython",
    "version": 3
   },
   "file_extension": ".py",
   "mimetype": "text/x-python",
   "name": "python",
   "nbconvert_exporter": "python",
   "pygments_lexer": "ipython3",
   "version": "3.8.10"
  },
  "orig_nbformat": 4
 },
 "nbformat": 4,
 "nbformat_minor": 2
}
